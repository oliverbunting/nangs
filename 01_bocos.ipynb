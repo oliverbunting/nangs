{
 "cells": [
  {
   "cell_type": "code",
   "execution_count": null,
   "metadata": {},
   "outputs": [],
   "source": [
    "# default_exp bocos"
   ]
  },
  {
   "cell_type": "code",
   "execution_count": null,
   "metadata": {},
   "outputs": [],
   "source": [
    "#hide\n",
    "%load_ext autoreload\n",
    "%autoreload 2\n",
    "from nangs.pde import PDE\n",
    "import numpy as np\n",
    "from nbdev.showdoc import *"
   ]
  },
  {
   "cell_type": "markdown",
   "metadata": {},
   "source": [
    "# bocos\n",
    "\n",
    "> This module contains the different boundary conditions available to work with PDEs"
   ]
  },
  {
   "cell_type": "code",
   "execution_count": null,
   "metadata": {},
   "outputs": [],
   "source": [
    "#export\n",
    "\n",
    "class Boco():\n",
    "    \"Base class to work with bocos\"\n",
    "    def __init__(self):\n",
    "        self.type = None\n",
    "        self.bs = None\n",
    "        self.dataset = None\n",
    "        self.DataLoader = None\n",
    "        \n",
    "    def addBoco(self, input_keys, output_keys):\n",
    "        \"This function is called when a PDE adds this boco\"\n",
    "        print('Override this function to add the required values')\n",
    "\n",
    "    def check(self, inputs, outputs, params):\n",
    "        print('Override this function to check everything is ok')\n",
    "\n",
    "    def summary(self, input_keys, output_keys, param_keys):\n",
    "        print('Override this function to print the boco summary')\n",
    "\n",
    "    def setSolverParams(self, bs):\n",
    "        self.bs = bs"
   ]
  },
  {
   "cell_type": "code",
   "execution_count": null,
   "metadata": {},
   "outputs": [],
   "source": [
    "#export\n",
    "\n",
    "from nangs.utils import *\n",
    "\n",
    "class PeriodicBoco(Boco):\n",
    "    \"Periodic boundary condition: The outputs of both inputs will be enforced to be equal.\"\n",
    "    def __init__(self, inputs1, inputs2):\n",
    "        super().__init__()\n",
    "        self.type = 'periodic'\n",
    "        \n",
    "        # check for dict with numpy arrays, same inputs and same length\n",
    "        checkValidDict(inputs1)\n",
    "        checkValidDict(inputs2)\n",
    "        if len(inputs1) != len(inputs2):\n",
    "            raise Exception('Inputs must have the same length !')\n",
    "        for k in inputs1:\n",
    "            if k not in inputs2:\n",
    "                raise Exception(k + ' must be present in both inputs !')\n",
    "            if len(inputs1[k]) != len(inputs2[k]):\n",
    "                raise Exception(k + ' must have same length in both inputs !')\n",
    "        \n",
    "        self.inputs1 = inputs1\n",
    "        self.inputs2 = inputs2\n",
    "        \n",
    "    def addBoco(self, input_keys, output_keys):\n",
    "        \"This function is called when a PDE adds this boco\"\n",
    "        \n",
    "        # check that all inputs are present\n",
    "        checkDictArray(self.inputs1, input_keys)\n",
    "        checkDictArray(self.inputs2, input_keys)\n",
    "        \n",
    "        # create empty list with same dimensions that inputs in pde\n",
    "        inputs1_values = [[] for i in input_keys]\n",
    "        inputs2_values = [[] for i in input_keys]\n",
    "\n",
    "        # extract arrays from dict and store in list, ordered by inputs in the pde\n",
    "        for k in self.inputs1:\n",
    "            ix = input_keys.index(k)\n",
    "            inputs1_values[ix] = self.inputs1[k]\n",
    "\n",
    "        for k in self.inputs2:\n",
    "            ix = input_keys.index(k)\n",
    "            inputs2_values[ix] = self.inputs2[k]\n",
    "        \n",
    "        self.inputs1 = inputs1_values\n",
    "        self.inputs2 = inputs2_values\n",
    "            \n",
    "    def summary(self, input_keys, output_keys, param_keys):\n",
    "        print('Periodic Boco Summary:')\n",
    "        print('Input 1: ', {name: values for name, values in zip(input_keys, self.inputs1)})\n",
    "        print('Input 2: ', {name: values for name, values in zip(input_keys, self.inputs2)})\n",
    "        print('')"
   ]
  },
  {
   "cell_type": "markdown",
   "metadata": {},
   "source": [
    "Example"
   ]
  },
  {
   "cell_type": "code",
   "execution_count": null,
   "metadata": {},
   "outputs": [
    {
     "name": "stdout",
     "output_type": "stream",
     "text": [
      "Periodic Boco Summary:\n",
      "Input 1:  {'a': array([0]), 'b': array([1, 2, 3])}\n",
      "Input 2:  {'a': array([1]), 'b': array([1, 2, 3])}\n",
      "\n"
     ]
    }
   ],
   "source": [
    "pde = PDE(inputs=['a', 'b'], outputs=['c'])\n",
    "\n",
    "a1, a2 = np.array([0]), np.array([1])\n",
    "b = np.array([1, 2, 3])\n",
    "\n",
    "boco = PeriodicBoco({'a': a1, 'b': b}, {'a': a2, 'b': b})\n",
    "pde.addBoco(boco)\n",
    "\n",
    "pde.bocoSummary()"
   ]
  },
  {
   "cell_type": "code",
   "execution_count": null,
   "metadata": {},
   "outputs": [],
   "source": [
    "#hide\n",
    "\n",
    "pde = PDE(inputs=['a', 'b'], outputs=['c'])\n",
    "\n",
    "a1, a2 = np.array([0]), np.array([1])\n",
    "b = np.array([1, 2, 3])\n",
    "\n",
    "boco = PeriodicBoco({'a': a1, 'b': b}, {'a': a2, 'b': b})\n",
    "pde.addBoco(boco)\n",
    "\n",
    "try:\n",
    "    boco = PeriodicBoco({'a': a1, 'b': b})\n",
    "except Exception as e:\n",
    "    assert str(e) == \"__init__() missing 1 required positional argument: 'inputs2'\", \"assertion failed\"\n",
    "\n",
    "try:\n",
    "    boco = PeriodicBoco({'a': a1, 'b': b}, {'a': a2, 'c': b})\n",
    "except Exception as e:\n",
    "    assert str(e) == \"b must be present in both inputs !\", \"assertion failed\"\n",
    "    \n",
    "try:\n",
    "    boco = PeriodicBoco({'a': a1, 'c': b}, {'a': a2, 'c': b})\n",
    "    pde.addBoco(boco)\n",
    "except Exception as e:\n",
    "    assert str(e) == \"c is not present in ['a', 'b']\", \"assertion failed\""
   ]
  },
  {
   "cell_type": "code",
   "execution_count": null,
   "metadata": {},
   "outputs": [],
   "source": [
    "#export\n",
    "\n",
    "class DirichletBoco(Boco):\n",
    "    \"Dirichlet boundary condition: Fixed outputs.\"\n",
    "    def __init__(self, inputs, outputs):\n",
    "        super().__init__()\n",
    "        self.type = 'dirichlet'\n",
    "\n",
    "        # check for dict with numpy arrays\n",
    "        checkValidDict(inputs)\n",
    "        checkValidDict(outputs)\n",
    "        \n",
    "        # ckeck outputs has correct length\n",
    "        s = 1\n",
    "        for k in inputs:\n",
    "            s *= len(inputs[k])\n",
    "        for k in outputs:\n",
    "            if len(outputs[k]) != s:\n",
    "                raise Exception(f\"length of {k} incorrect\")\n",
    "            \n",
    "        \n",
    "        self.inputs = inputs\n",
    "        self.outputs = outputs\n",
    "\n",
    "\n",
    "    def addBoco(self, input_keys, output_keys):\n",
    "        # check that the length of the inputs is the same than the outputs\n",
    "\n",
    "        # check that all inputs and outputs are present\n",
    "        checkDictArray(self.inputs, input_keys)\n",
    "        checkDictArray(self.outputs, output_keys)\n",
    "\n",
    "        # create empty list with same dimensions that inputs in pde\n",
    "        inputs = [[] for i in input_keys]\n",
    "        outputs = [[] for i in output_keys]\n",
    "\n",
    "        # extract arrays from dict and store in list, ordered by inputs in the pde\n",
    "        for k in self.inputs:\n",
    "            ix = input_keys.index(k)\n",
    "            inputs[ix] = self.inputs[k]\n",
    "\n",
    "        for k in self.outputs:\n",
    "            ix = output_keys.index(k)\n",
    "            outputs[ix] = self.outputs[k]\n",
    "            \n",
    "        self.inputs = inputs\n",
    "        self.outputs = outputs\n",
    "\n",
    "    def summary(self, input_keys, output_keys, param_keys):\n",
    "        print('Dirichlet Boco Summary:')\n",
    "        print('Inputs: ', {name: values for name, values in zip(input_keys, self.inputs)})\n",
    "        print('Outputs: ', {name: values for name, values in zip(output_keys, self.outputs)})\n",
    "        print('')"
   ]
  },
  {
   "cell_type": "markdown",
   "metadata": {},
   "source": [
    "Example"
   ]
  },
  {
   "cell_type": "code",
   "execution_count": null,
   "metadata": {},
   "outputs": [
    {
     "name": "stdout",
     "output_type": "stream",
     "text": [
      "Dirichlet Boco Summary:\n",
      "Inputs:  {'a': array([0]), 'b': array([1, 2, 3])}\n",
      "Outputs:  {'c': array([-1, -2, -3])}\n",
      "\n"
     ]
    }
   ],
   "source": [
    "pde = PDE(inputs=['a', 'b'], outputs=['c'])\n",
    "\n",
    "a = np.array([0])\n",
    "b = np.array([1, 2, 3])\n",
    "c = np.array([-1, -2, -3])\n",
    "\n",
    "boco = DirichletBoco({'a': a, 'b': b}, {'c': c})\n",
    "pde.addBoco(boco)\n",
    "    \n",
    "pde.bocoSummary()"
   ]
  },
  {
   "cell_type": "markdown",
   "metadata": {},
   "source": [
    "The different outputs must have a length equal to the product of the lengths of all the inputs."
   ]
  },
  {
   "cell_type": "code",
   "execution_count": null,
   "metadata": {},
   "outputs": [],
   "source": [
    "a = np.array([0, 1])             # 2\n",
    "b = np.array([1, 2, 3])          # 3\n",
    "c = np.array([-1, -2, -3, 1, 2]) # 5, one output missing (2*3 = 6)\n",
    "\n",
    "try:\n",
    "    boco = DirichletBoco({'a': a, 'b': b}, {'c': c})\n",
    "except Exception as e:\n",
    "    assert str(e) == \"length of c incorrect\", \"assertion failed\""
   ]
  },
  {
   "cell_type": "code",
   "execution_count": null,
   "metadata": {},
   "outputs": [],
   "source": [
    "#hide\n",
    "\n",
    "pde = PDE(inputs=['a', 'b'], outputs=['c'])\n",
    "\n",
    "a = np.array([0])\n",
    "b = np.array([1, 2, 3])\n",
    "c = np.array([-1, -2, -3])\n",
    "\n",
    "boco = DirichletBoco({'a': a, 'b': b}, {'c': c})\n",
    "pde.addBoco(boco)\n",
    "  \n",
    "try:\n",
    "    boco = DirichletBoco({'a': a, 'b': b})\n",
    "    pde.addBoco(boco)\n",
    "except Exception as e:\n",
    "    assert str(e) == \"__init__() missing 1 required positional argument: 'outputs'\", \"assertion failed\"\n",
    "    \n",
    "try:\n",
    "    boco = DirichletBoco({'a': a, 'c': b}, {'b': c})\n",
    "    pde.addBoco(boco)\n",
    "except Exception as e:\n",
    "    assert str(e) == \"c is not present in ['a', 'b']\", \"assertion failed\"\n",
    "    \n",
    "d = np.array([-1, -2, -3, 1, 2]) # one output missing\n",
    "\n",
    "try:\n",
    "    boco = DirichletBoco({'a': a, 'b': b}, {'c': d})\n",
    "except Exception as e:\n",
    "    assert str(e) == \"length of c incorrect\", \"assertion failed\""
   ]
  },
  {
   "cell_type": "code",
   "execution_count": null,
   "metadata": {},
   "outputs": [],
   "source": []
  }
 ],
 "metadata": {
  "kernelspec": {
   "display_name": "Python 3",
   "language": "python",
   "name": "python3"
  }
 },
 "nbformat": 4,
 "nbformat_minor": 2
}
