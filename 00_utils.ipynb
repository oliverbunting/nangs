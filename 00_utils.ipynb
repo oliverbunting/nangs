{
 "cells": [
  {
   "cell_type": "code",
   "execution_count": null,
   "metadata": {},
   "outputs": [],
   "source": [
    "# default_exp utils"
   ]
  },
  {
   "cell_type": "code",
   "execution_count": null,
   "metadata": {},
   "outputs": [],
   "source": [
    "#hide\n",
    "%load_ext autoreload\n",
    "%autoreload 2"
   ]
  },
  {
   "cell_type": "markdown",
   "metadata": {},
   "source": [
    "# utils\n",
    "\n",
    "> This module contains different utility functions used throughout nangs."
   ]
  },
  {
   "cell_type": "code",
   "execution_count": null,
   "metadata": {},
   "outputs": [],
   "source": [
    "#export\n",
    "def checkIsListOfStr(l):\n",
    "    \"Make sure that l is a list containing only strings\"\n",
    "    if not isinstance(l, list):\n",
    "        raise Exception(str(l) + ' must be a list of strings')\n",
    "    for i in l: \n",
    "        if not isinstance(i, str):\n",
    "            raise Exception(str(i) + ' must be a string')"
   ]
  },
  {
   "cell_type": "markdown",
   "metadata": {},
   "source": [
    "Example"
   ]
  },
  {
   "cell_type": "code",
   "execution_count": null,
   "metadata": {},
   "outputs": [],
   "source": [
    "checkIsListOfStr(['a', 'b', 'b'])"
   ]
  },
  {
   "cell_type": "markdown",
   "metadata": {},
   "source": [
    "A list containing non-string elements should throw an error."
   ]
  },
  {
   "cell_type": "code",
   "execution_count": null,
   "metadata": {},
   "outputs": [],
   "source": [
    "try:\n",
    "    checkIsListOfStr(['a', 'b', 2])\n",
    "except Exception as e:\n",
    "    assert str(e) == \"2 must be a string\", \"assertion failed\""
   ]
  },
  {
   "cell_type": "code",
   "execution_count": null,
   "metadata": {},
   "outputs": [],
   "source": [
    "#hide\n",
    "\n",
    "checkIsListOfStr(['a'])\n",
    "checkIsListOfStr(['a', 'b', 'c'])\n",
    "checkIsListOfStr(['a', 'b', 'b'])\n",
    "\n",
    "\n",
    "try:\n",
    "    checkIsListOfStr(42)\n",
    "except Exception as e:\n",
    "    assert str(e) == \"42 must be a list of strings\", \"assertion failed\"\n",
    "    \n",
    "try:\n",
    "    checkIsListOfStr([42])\n",
    "except Exception as e:\n",
    "    assert str(e) == \"42 must be a string\", \"assertion failed\"\n",
    "    \n",
    "try:\n",
    "    checkIsListOfStr(['a', 'b', 42])\n",
    "except Exception as e:\n",
    "    assert str(e) == \"42 must be a string\", \"assertion failed\"\n",
    "    \n",
    "try:\n",
    "    checkIsListOfStr(['a', 'b', True])\n",
    "except Exception as e:\n",
    "    assert str(e) == \"True must be a string\", \"assertion failed\"\n",
    "    \n",
    "try:\n",
    "    checkIsListOfStr([None, 'b', True])\n",
    "except Exception as e:\n",
    "    assert str(e) == \"None must be a string\", \"assertion failed\""
   ]
  },
  {
   "cell_type": "code",
   "execution_count": null,
   "metadata": {},
   "outputs": [],
   "source": [
    "#export\n",
    "def checkUnique(l):\n",
    "    \"Make sure that l does not contain repeated elements\"\n",
    "    for i, item1 in enumerate(l): \n",
    "        for j, item2 in enumerate(l): \n",
    "            if i != j and item1 == item2:\n",
    "                raise Exception('Repeated item ' + str(item1))"
   ]
  },
  {
   "cell_type": "markdown",
   "metadata": {},
   "source": [
    "Example"
   ]
  },
  {
   "cell_type": "code",
   "execution_count": null,
   "metadata": {},
   "outputs": [],
   "source": [
    "checkUnique(['a', 'b', 'c'])"
   ]
  },
  {
   "cell_type": "markdown",
   "metadata": {},
   "source": [
    "A list with repeated values should throw an error"
   ]
  },
  {
   "cell_type": "code",
   "execution_count": null,
   "metadata": {},
   "outputs": [],
   "source": [
    "try:\n",
    "    checkUnique(['a', 'b', 'b'])\n",
    "except Exception as e:\n",
    "    assert str(e) == \"Repeated item b\", \"assertion failed\""
   ]
  },
  {
   "cell_type": "code",
   "execution_count": null,
   "metadata": {},
   "outputs": [],
   "source": [
    "#hide\n",
    "\n",
    "checkUnique(['a'])\n",
    "checkUnique(['a', 'b', 'c'])\n",
    "checkUnique(['a', 42])\n",
    "\n",
    "try:\n",
    "    checkUnique(['a', 'a'])\n",
    "except Exception as e:\n",
    "    assert str(e) == \"Repeated item a\", \"assertion failed\"\n",
    "    \n",
    "try:\n",
    "    checkUnique([42, 42])\n",
    "except Exception as e:\n",
    "    assert str(e) == \"Repeated item 42\", \"assertion failed\"\n",
    "    \n",
    "try:\n",
    "    checkUnique([None, 42, None, None, 42])\n",
    "except Exception as e:\n",
    "    assert str(e) == \"Repeated item None\", \"assertion failed\""
   ]
  },
  {
   "cell_type": "code",
   "execution_count": null,
   "metadata": {},
   "outputs": [],
   "source": [
    "#export\n",
    "def initListOfStr(l):\n",
    "    \"Receives a list of unique strings and returns an empty list for each item\"\n",
    "    checkIsListOfStr(l)\n",
    "    checkUnique(l)\n",
    "    return [[] for i in l]"
   ]
  },
  {
   "cell_type": "markdown",
   "metadata": {},
   "source": [
    "Example"
   ]
  },
  {
   "cell_type": "code",
   "execution_count": null,
   "metadata": {},
   "outputs": [
    {
     "data": {
      "text/plain": [
       "[[], [], []]"
      ]
     },
     "execution_count": null,
     "metadata": {},
     "output_type": "execute_result"
    }
   ],
   "source": [
    "initListOfStr(['a', 'b', 'c'])"
   ]
  },
  {
   "cell_type": "code",
   "execution_count": null,
   "metadata": {},
   "outputs": [],
   "source": [
    "#hide\n",
    "\n",
    "assert initListOfStr(['a']) == [[]]\n",
    "assert initListOfStr(['a', 'b', 'c']) == [[],[],[]]\n",
    "\n",
    "try:\n",
    "    initListOfStr('a')\n",
    "except Exception as e:\n",
    "    assert str(e) == \"a must be a list of strings\", \"assertion failed\"\n",
    "\n",
    "try:\n",
    "    initListOfStr(42)\n",
    "except Exception as e:\n",
    "    assert str(e) == \"42 must be a list of strings\", \"assertion failed\"\n",
    "    \n",
    "try:\n",
    "    initListOfStr(['a', 42])\n",
    "except Exception as e:\n",
    "    assert str(e) == \"42 must be a string\", \"assertion failed\"\n",
    "    \n",
    "try:\n",
    "    initListOfStr([42, 42])\n",
    "except Exception as e:\n",
    "    assert str(e) == \"42 must be a string\", \"assertion failed\"\n",
    "    \n",
    "try:\n",
    "    initListOfStr(['a', 'b', None])\n",
    "except Exception as e:\n",
    "    assert str(e) == \"None must be a string\", \"assertion failed\"\n",
    "    \n",
    "try:\n",
    "    initListOfStr(('a', 'b'))\n",
    "except Exception as e:\n",
    "    assert str(e) == \"('a', 'b') must be a list of strings\", \"assertion failed\"\n",
    "    \n",
    "try:\n",
    "    initListOfStr({'a': [], 'b': []})\n",
    "except Exception as e:\n",
    "    assert str(e) == \"{'a': [], 'b': []} must be a list of strings\", \"assertion failed\""
   ]
  },
  {
   "cell_type": "code",
   "execution_count": null,
   "metadata": {},
   "outputs": [],
   "source": []
  }
 ],
 "metadata": {
  "kernelspec": {
   "display_name": "Python 3",
   "language": "python",
   "name": "python3"
  }
 },
 "nbformat": 4,
 "nbformat_minor": 2
}
