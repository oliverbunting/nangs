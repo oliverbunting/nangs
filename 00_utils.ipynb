{
 "cells": [
  {
   "cell_type": "code",
   "execution_count": null,
   "metadata": {},
   "outputs": [],
   "source": [
    "# default_exp utils"
   ]
  },
  {
   "cell_type": "code",
   "execution_count": null,
   "metadata": {},
   "outputs": [],
   "source": [
    "#hide\n",
    "%load_ext autoreload\n",
    "%autoreload 2"
   ]
  },
  {
   "cell_type": "markdown",
   "metadata": {},
   "source": [
    "# utils\n",
    "\n",
    "> This module contains different utility functions used throughout nangs."
   ]
  },
  {
   "cell_type": "code",
   "execution_count": null,
   "metadata": {},
   "outputs": [],
   "source": [
    "#export\n",
    "def checkIsListOfStr(l):\n",
    "    \"Make sure that l is a list containing only strings\"\n",
    "    if not isinstance(l, list):\n",
    "        raise Exception(str(l) + ' must be a list of strings')\n",
    "    for i in l: \n",
    "        if not isinstance(i, str):\n",
    "            raise Exception(str(i) + ' must be a string')"
   ]
  },
  {
   "cell_type": "markdown",
   "metadata": {},
   "source": [
    "Example"
   ]
  },
  {
   "cell_type": "code",
   "execution_count": null,
   "metadata": {},
   "outputs": [],
   "source": [
    "checkIsListOfStr(['a', 'b', 'b'])"
   ]
  },
  {
   "cell_type": "markdown",
   "metadata": {},
   "source": [
    "A list containing non-string elements should throw an error."
   ]
  },
  {
   "cell_type": "code",
   "execution_count": null,
   "metadata": {},
   "outputs": [],
   "source": [
    "try:\n",
    "    checkIsListOfStr(['a', 'b', 2])\n",
    "except Exception as e:\n",
    "    assert str(e) == \"2 must be a string\", \"assertion failed\""
   ]
  },
  {
   "cell_type": "code",
   "execution_count": null,
   "metadata": {},
   "outputs": [],
   "source": [
    "#hide\n",
    "\n",
    "checkIsListOfStr(['a'])\n",
    "checkIsListOfStr(['a', 'b', 'c'])\n",
    "checkIsListOfStr(['a', 'b', 'b'])\n",
    "\n",
    "\n",
    "try:\n",
    "    checkIsListOfStr(42)\n",
    "except Exception as e:\n",
    "    assert str(e) == \"42 must be a list of strings\", \"assertion failed\"\n",
    "    \n",
    "try:\n",
    "    checkIsListOfStr([42])\n",
    "except Exception as e:\n",
    "    assert str(e) == \"42 must be a string\", \"assertion failed\"\n",
    "    \n",
    "try:\n",
    "    checkIsListOfStr(['a', 'b', 42])\n",
    "except Exception as e:\n",
    "    assert str(e) == \"42 must be a string\", \"assertion failed\"\n",
    "    \n",
    "try:\n",
    "    checkIsListOfStr(['a', 'b', True])\n",
    "except Exception as e:\n",
    "    assert str(e) == \"True must be a string\", \"assertion failed\"\n",
    "    \n",
    "try:\n",
    "    checkIsListOfStr([None, 'b', True])\n",
    "except Exception as e:\n",
    "    assert str(e) == \"None must be a string\", \"assertion failed\""
   ]
  },
  {
   "cell_type": "code",
   "execution_count": null,
   "metadata": {},
   "outputs": [],
   "source": [
    "#export\n",
    "def checkUnique(l):\n",
    "    \"Make sure that l does not contain repeated elements\"\n",
    "    for i, item1 in enumerate(l): \n",
    "        for j, item2 in enumerate(l): \n",
    "            if i != j and item1 == item2:\n",
    "                raise Exception('Repeated item ' + str(item1))"
   ]
  },
  {
   "cell_type": "markdown",
   "metadata": {},
   "source": [
    "Example"
   ]
  },
  {
   "cell_type": "code",
   "execution_count": null,
   "metadata": {},
   "outputs": [],
   "source": [
    "checkUnique(['a', 'b', 'c'])"
   ]
  },
  {
   "cell_type": "markdown",
   "metadata": {},
   "source": [
    "A list with repeated values should throw an error"
   ]
  },
  {
   "cell_type": "code",
   "execution_count": null,
   "metadata": {},
   "outputs": [],
   "source": [
    "try:\n",
    "    checkUnique(['a', 'b', 'b'])\n",
    "except Exception as e:\n",
    "    assert str(e) == \"Repeated item b\", \"assertion failed\""
   ]
  },
  {
   "cell_type": "code",
   "execution_count": null,
   "metadata": {},
   "outputs": [],
   "source": [
    "#hide\n",
    "\n",
    "checkUnique(['a'])\n",
    "checkUnique(['a', 'b', 'c'])\n",
    "checkUnique(['a', 42])\n",
    "\n",
    "try:\n",
    "    checkUnique(['a', 'a'])\n",
    "except Exception as e:\n",
    "    assert str(e) == \"Repeated item a\", \"assertion failed\"\n",
    "    \n",
    "try:\n",
    "    checkUnique([42, 42])\n",
    "except Exception as e:\n",
    "    assert str(e) == \"Repeated item 42\", \"assertion failed\"\n",
    "    \n",
    "try:\n",
    "    checkUnique([None, 42, None, None, 42])\n",
    "except Exception as e:\n",
    "    assert str(e) == \"Repeated item None\", \"assertion failed\""
   ]
  },
  {
   "cell_type": "code",
   "execution_count": null,
   "metadata": {},
   "outputs": [],
   "source": [
    "#export\n",
    "def initListOfStr(l):\n",
    "    \"Receives a list of unique strings and returns an empty list for each item\"\n",
    "    checkIsListOfStr(l)\n",
    "    checkUnique(l)\n",
    "    return [[] for i in l]"
   ]
  },
  {
   "cell_type": "markdown",
   "metadata": {},
   "source": [
    "Example"
   ]
  },
  {
   "cell_type": "code",
   "execution_count": null,
   "metadata": {},
   "outputs": [
    {
     "data": {
      "text/plain": [
       "[[], [], []]"
      ]
     },
     "execution_count": null,
     "metadata": {},
     "output_type": "execute_result"
    }
   ],
   "source": [
    "initListOfStr(['a', 'b', 'c'])"
   ]
  },
  {
   "cell_type": "code",
   "execution_count": null,
   "metadata": {},
   "outputs": [],
   "source": [
    "#hide\n",
    "\n",
    "assert initListOfStr(['a']) == [[]]\n",
    "assert initListOfStr(['a', 'b', 'c']) == [[],[],[]]\n",
    "\n",
    "try:\n",
    "    initListOfStr('a')\n",
    "except Exception as e:\n",
    "    assert str(e) == \"a must be a list of strings\", \"assertion failed\"\n",
    "\n",
    "try:\n",
    "    initListOfStr(42)\n",
    "except Exception as e:\n",
    "    assert str(e) == \"42 must be a list of strings\", \"assertion failed\"\n",
    "    \n",
    "try:\n",
    "    initListOfStr(['a', 42])\n",
    "except Exception as e:\n",
    "    assert str(e) == \"42 must be a string\", \"assertion failed\"\n",
    "    \n",
    "try:\n",
    "    initListOfStr([42, 42])\n",
    "except Exception as e:\n",
    "    assert str(e) == \"42 must be a string\", \"assertion failed\"\n",
    "    \n",
    "try:\n",
    "    initListOfStr(['a', 'b', None])\n",
    "except Exception as e:\n",
    "    assert str(e) == \"None must be a string\", \"assertion failed\"\n",
    "    \n",
    "try:\n",
    "    initListOfStr(('a', 'b'))\n",
    "except Exception as e:\n",
    "    assert str(e) == \"('a', 'b') must be a list of strings\", \"assertion failed\"\n",
    "    \n",
    "try:\n",
    "    initListOfStr({'a': [], 'b': []})\n",
    "except Exception as e:\n",
    "    assert str(e) == \"{'a': [], 'b': []} must be a list of strings\", \"assertion failed\""
   ]
  },
  {
   "cell_type": "code",
   "execution_count": null,
   "metadata": {},
   "outputs": [],
   "source": [
    "#export\n",
    "def checkNoRepeated(l1, l2):\n",
    "    \"Make sure there are no repeated elements in both lists\"\n",
    "    for i in l1: \n",
    "        if i in l2: \n",
    "            raise Exception('Repeated item ' + str(i))"
   ]
  },
  {
   "cell_type": "markdown",
   "metadata": {},
   "source": [
    "Example"
   ]
  },
  {
   "cell_type": "code",
   "execution_count": null,
   "metadata": {},
   "outputs": [],
   "source": [
    "checkNoRepeated(['a', 'b'], ['c', 'd', 'e'])"
   ]
  },
  {
   "cell_type": "markdown",
   "metadata": {},
   "source": [
    "Two lists with repeated values should throw an error"
   ]
  },
  {
   "cell_type": "code",
   "execution_count": null,
   "metadata": {},
   "outputs": [],
   "source": [
    "try:\n",
    "    checkNoRepeated(['a', 'b'], ['a', 'c'])\n",
    "except Exception as e:\n",
    "    assert str(e) == \"Repeated item a\", \"assertion failed\""
   ]
  },
  {
   "cell_type": "code",
   "execution_count": null,
   "metadata": {},
   "outputs": [],
   "source": [
    "#hide\n",
    "\n",
    "checkNoRepeated(['a'], ['b'])\n",
    "checkNoRepeated(['a', 'b'], ['c', 'd', 'e'])\n",
    "\n",
    "try:\n",
    "    checkNoRepeated(['a', 'b'], ['a', 'c'])\n",
    "except Exception as e:\n",
    "    assert str(e) == \"Repeated item a\", \"assertion failed\"\n",
    "    \n",
    "try:\n",
    "    checkNoRepeated(['a', 42], [42, 'c'])\n",
    "except Exception as e:\n",
    "    assert str(e) == \"Repeated item 42\", \"assertion failed\"\n",
    "    \n",
    "try:\n",
    "    checkNoRepeated([None, 'a', 42], [None, 42, 'c'])\n",
    "except Exception as e:\n",
    "    assert str(e) == \"Repeated item None\", \"assertion failed\""
   ]
  },
  {
   "cell_type": "code",
   "execution_count": null,
   "metadata": {},
   "outputs": [],
   "source": [
    "#export\n",
    "import numpy as np\n",
    "\n",
    "def checkValidArray(a):\n",
    "    \"Make sure an array is a numpy array with only 1 dimension\"\n",
    "    if not isinstance(a, np.ndarray):\n",
    "        raise Exception('Values must be numpy arrays !')\n",
    "    if not a.ndim == 1:\n",
    "        raise Exception('Arrays must have only one dimension !')"
   ]
  },
  {
   "cell_type": "markdown",
   "metadata": {},
   "source": [
    "Example"
   ]
  },
  {
   "cell_type": "code",
   "execution_count": null,
   "metadata": {},
   "outputs": [],
   "source": [
    "checkValidArray(np.array([1, 2, 3]))"
   ]
  },
  {
   "cell_type": "markdown",
   "metadata": {},
   "source": [
    "An array with more than 1 dim should throw an error"
   ]
  },
  {
   "cell_type": "code",
   "execution_count": null,
   "metadata": {},
   "outputs": [],
   "source": [
    "try:\n",
    "    checkValidArray(np.array([[1], [2], [3]]))\n",
    "except Exception as e:\n",
    "    assert str(e) == \"Arrays must have only one dimension !\", \"assertion failed\""
   ]
  },
  {
   "cell_type": "code",
   "execution_count": null,
   "metadata": {},
   "outputs": [],
   "source": [
    "#hide\n",
    "\n",
    "checkValidArray(np.array([1]))\n",
    "checkValidArray(np.array([1, 2, 3]))\n",
    "checkValidArray(np.array([1., 2., 3.3]))\n",
    "\n",
    "try:\n",
    "    checkValidArray(np.array([[1], [2], [3]]))\n",
    "except Exception as e:\n",
    "    assert str(e) == \"Arrays must have only one dimension !\", \"assertion failed\"\n",
    "    \n",
    "try:\n",
    "    checkValidArray([1, 2, 3])\n",
    "except Exception as e:\n",
    "    assert str(e) == \"Values must be numpy arrays !\", \"assertion failed\""
   ]
  },
  {
   "cell_type": "code",
   "execution_count": null,
   "metadata": {},
   "outputs": [],
   "source": [
    "#export\n",
    "def checkValidDict(d):\n",
    "    \"Make sure d is a dict with valid arrays (numpy arrays with only 1 dimension)\"\n",
    "    if not isinstance(d, dict):\n",
    "        raise Exception('Values must be a dictionary !')\n",
    "    for k in d:\n",
    "        checkValidArray(d[k])"
   ]
  },
  {
   "cell_type": "markdown",
   "metadata": {},
   "source": [
    "Example"
   ]
  },
  {
   "cell_type": "code",
   "execution_count": null,
   "metadata": {},
   "outputs": [],
   "source": [
    "checkValidDict({'a': np.array([1, 2, 3]), 'b': np.array([4, 5])})"
   ]
  },
  {
   "cell_type": "markdown",
   "metadata": {},
   "source": [
    "A dictionary with values that are not numpy arrays should throw an error"
   ]
  },
  {
   "cell_type": "code",
   "execution_count": null,
   "metadata": {},
   "outputs": [],
   "source": [
    "try:\n",
    "    checkValidDict({'a': np.array([1, 2, 3]), 'b': [4, 5]})\n",
    "except Exception as e:\n",
    "    assert str(e) == \"Values must be numpy arrays !\", \"assertion failed\""
   ]
  },
  {
   "cell_type": "code",
   "execution_count": null,
   "metadata": {},
   "outputs": [],
   "source": [
    "#hide\n",
    "\n",
    "checkValidDict({'a': np.array([1, 2, 3]), 'b': np.array([4, 5])})\n",
    "\n",
    "try:\n",
    "    checkValidDict({'a': np.array([1, 2, 3]), 'b': [4, 5]})\n",
    "except Exception as e:\n",
    "    assert str(e) == \"Values must be numpy arrays !\", \"assertion failed\"\n",
    "    \n",
    "try:\n",
    "    checkValidDict(None)\n",
    "except Exception as e:\n",
    "    assert str(e) == \"Values must be a dictionary !\", \"assertion failed\"\n",
    "    \n",
    "try:\n",
    "    checkValidDict([1, 2, 3])\n",
    "except Exception as e:\n",
    "    assert str(e) == \"Values must be a dictionary !\", \"assertion failed\""
   ]
  },
  {
   "cell_type": "code",
   "execution_count": null,
   "metadata": {},
   "outputs": [],
   "source": [
    "#export\n",
    "def setValue(l, v, k, val):\n",
    "    \"Set the value of a key in a dict to an array by position\"\n",
    "    ix = l.index(k)\n",
    "    v[ix] = val"
   ]
  },
  {
   "cell_type": "markdown",
   "metadata": {},
   "source": [
    "Example"
   ]
  },
  {
   "cell_type": "code",
   "execution_count": null,
   "metadata": {},
   "outputs": [
    {
     "data": {
      "text/plain": [
       "[[1, 2, 3], [], []]"
      ]
     },
     "execution_count": null,
     "metadata": {},
     "output_type": "execute_result"
    }
   ],
   "source": [
    "keys = ['a', 'b', 'c']\n",
    "values = [[], [], []]\n",
    "\n",
    "setValue(keys, values, 'a', [1, 2, 3])\n",
    "\n",
    "values"
   ]
  },
  {
   "cell_type": "markdown",
   "metadata": {},
   "source": [
    "Make sure that values has the same length than keys (we generate it with `initListOfStr`)"
   ]
  },
  {
   "cell_type": "code",
   "execution_count": null,
   "metadata": {},
   "outputs": [],
   "source": [
    "#hide\n",
    "\n",
    "keys = ['a', 'b', 'c']\n",
    "values = [[], [], []]\n",
    "\n",
    "setValue(keys, values, 'a', [1, 2, 3])\n",
    "\n",
    "assert values == [[1, 2, 3],[],[]]\n",
    "\n",
    "setValue(keys, values, 'c', ['a', True, None])\n",
    "\n",
    "assert values == [[1, 2, 3],[],['a', True, None]]\n",
    "\n",
    "try:\n",
    "    setValue(keys, values, 'd', [1, 2, 3])\n",
    "except Exception as e:\n",
    "    assert str(e) == \"'d' is not in list\", \"assertion failed\""
   ]
  },
  {
   "cell_type": "code",
   "execution_count": null,
   "metadata": {},
   "outputs": [],
   "source": [
    "#export\n",
    "def checkDictArray(d, a):\n",
    "    \"Make sure that every key in a d is in a\"\n",
    "    for k in d.keys():\n",
    "        if not k in a:\n",
    "            raise Exception(k + ' is not present in ' + str(a))"
   ]
  },
  {
   "cell_type": "markdown",
   "metadata": {},
   "source": [
    "Example"
   ]
  },
  {
   "cell_type": "code",
   "execution_count": null,
   "metadata": {},
   "outputs": [],
   "source": [
    "checkDictArray({'a': [1, 2, 3], 'b': True}, ['a', 'b'])"
   ]
  },
  {
   "cell_type": "markdown",
   "metadata": {},
   "source": [
    "If some key is missing, an error should be thrown."
   ]
  },
  {
   "cell_type": "code",
   "execution_count": null,
   "metadata": {},
   "outputs": [],
   "source": [
    "try:\n",
    "    checkDictArray({'a': [1, 2, 3], 'b': True}, ['a', 'c'])\n",
    "except Exception as e:\n",
    "    assert str(e) == \"b is not present in ['a', 'c']\", \"assertion failed\""
   ]
  },
  {
   "cell_type": "code",
   "execution_count": null,
   "metadata": {},
   "outputs": [],
   "source": [
    "#hide\n",
    "\n",
    "checkDictArray({'a': [1, 2, 3], 'b': True}, ['a', 'b'])\n",
    "\n",
    "try:\n",
    "    checkDictArray({'a': [1, 2, 3], 'b': True}, ['a', 'c'])\n",
    "except Exception as e:\n",
    "    assert str(e) == \"b is not present in ['a', 'c']\", \"assertion failed\""
   ]
  }
 ],
 "metadata": {
  "kernelspec": {
   "display_name": "Python 3",
   "language": "python",
   "name": "python3"
  }
 },
 "nbformat": 4,
 "nbformat_minor": 2
}
