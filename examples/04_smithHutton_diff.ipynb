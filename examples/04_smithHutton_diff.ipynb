{
 "cells": [
  {
   "cell_type": "markdown",
   "metadata": {},
   "source": [
    "## Smith-Hutton Problem\n",
    "\n",
    "We want to solve the following PDE:\n",
    "\n",
    "\\begin{equation}\n",
    "    u \\frac{\\partial \\phi}{\\partial x} + v \\frac{\\partial \\phi}{\\partial y} = \\Gamma (\\phi_{xx} + \\phi_{yy}) \n",
    "\\end{equation}\n",
    "\n",
    "The independen variables, $x$ and $y$, and the diffusive constant, $\\Gamma$, are used as input values for the NN, and the solution (i.e. $\\phi(x,y)$) is the output. In order to find the solution, at each step the NN outputs are derived w.r.t the inputs to obtain the first order derivatives. The same is done for the gradients to obtain the second order derivatives. Then, a loss function that matches the PDE is built and the weights are updated accordingly. A loss function that matches the PDE is then used for optimization. If the loss function goes to zero, we can assume that our NN is indeed the solution to our PDE. We will try to find a general solution for different values of $\\Gamma$, so we can then obtain a solution for different diffusivities without requiring new computations. The geometry of the problem is as follows:\n",
    "\n",
    "![sh](pics/sh.png)"
   ]
  },
  {
   "cell_type": "code",
   "execution_count": null,
   "metadata": {},
   "outputs": [],
   "source": [
    "# autoreload nangs\n",
    "%reload_ext autoreload\n",
    "%autoreload 2\n",
    "%matplotlib inline"
   ]
  },
  {
   "cell_type": "code",
   "execution_count": null,
   "metadata": {},
   "outputs": [],
   "source": [
    "#imports\n",
    "import math\n",
    "import numpy as np \n",
    "import matplotlib.pyplot as plt \n",
    "import torch"
   ]
  },
  {
   "cell_type": "markdown",
   "metadata": {},
   "source": [
    "First we define our PDE and set the values for training."
   ]
  },
  {
   "cell_type": "code",
   "execution_count": null,
   "metadata": {},
   "outputs": [],
   "source": [
    "from nangs.pde import PDE\n",
    "from nangs.bocos import PeriodicBoco, DirichletBoco, NeumannBoco\n",
    "from nangs.solutions import MLP\n",
    "\n",
    "class MyPDE(PDE):\n",
    "    def __init__(self, inputs=None, outputs=None, order=2):\n",
    "        super().__init__(inputs, outputs, order=order)\n",
    "    def computePDELoss(self, grads, inputs, outputs, params): \n",
    "        dpdx, dpdy = grads['p']['x'], grads['p']['y']\n",
    "        d2pdx2, d2pdy2 = grads['2p']['xx'], grads['2p']['yy']\n",
    "        x, y = inputs['x'], inputs['y']\n",
    "        u, v = 2*y*(1-x**2), -2*x*(1-y**2)\n",
    "        return [u*dpdx + v*dpdy - inputs['g']*(d2pdx2 + d2pdy2)]\n",
    "\n",
    "# instanciate pde\n",
    "pde = MyPDE(inputs=['x', 'y', 'g'], outputs=['p'])\n",
    "\n",
    "# define input values\n",
    "x = np.linspace(-1,1,60)\n",
    "y = np.linspace(0,1,30)\n",
    "g = np.array([0.1, 0.001, 0.000001])\n",
    "\n",
    "pde.setValues({'x': x, 'y': y, 'g': g})\n",
    "pde.setValues({'x': x, 'y': y, 'g': g}, train=False)"
   ]
  },
  {
   "cell_type": "markdown",
   "metadata": {},
   "source": [
    "Boundary conditions."
   ]
  },
  {
   "cell_type": "code",
   "execution_count": null,
   "metadata": {},
   "outputs": [],
   "source": [
    "# alpha parameter\n",
    "a = 10\n",
    "\n",
    "# left and rigth b.c \n",
    "x1, x2 = np.array([-1, 1]), np.array([1])\n",
    "p = np.zeros(2*len(y)*len(g))\n",
    "for i in range(2*len(y)): \n",
    "    for _g in g:\n",
    "        p[i] = 1. - math.tanh(a)\n",
    "boco = DirichletBoco('left_right', {'x': x1, 'y': y, 'g': g}, {'p': p})\n",
    "pde.addBoco(boco)\n",
    "\n",
    "# top b.c \n",
    "y2 = np.array([1])\n",
    "p = np.zeros(len(x)*len(g))\n",
    "for i in range(len(x)): \n",
    "    for _g in g:\n",
    "        p[i] = 1. - math.tanh(a)\n",
    "boco = DirichletBoco('top', {'x': x, 'y': y2, 'g': g}, {'p': p})\n",
    "pde.addBoco(boco)\n",
    "\n",
    "# bottom b.c\n",
    "y1 = np.array([0])\n",
    "x1, x2, p1 = [], [], []\n",
    "for i in range(len(x)): \n",
    "    if x[i] < 0:\n",
    "        x1.append(x[i])\n",
    "    else:\n",
    "        x2.append(x[i])\n",
    "for _g in g:\n",
    "    for i in range(len(x)): \n",
    "        if x[i] < 0:\n",
    "            p1.append(1.+math.tanh(a*(2*x[i]+1)))\n",
    "x1, x2, p1 = np.array(x1), np.array(x2), np.array(p1) \n",
    "\n",
    "# bottom left b.c\n",
    "boco = DirichletBoco('bottom_left', {'x': x1, 'y': y1, 'g': g}, {'p': p1})\n",
    "pde.addBoco(boco)\n",
    "\n",
    "# bottom right b.c\n",
    "boco = NeumannBoco('bottom_right', {'x': x2, 'y': y1, 'g': g}, grads={'p': 'y'})\n",
    "pde.addBoco(boco)"
   ]
  },
  {
   "cell_type": "code",
   "execution_count": null,
   "metadata": {},
   "outputs": [
    {
     "data": {
      "image/png": "[encoded data removed]",
      "text/plain": [
       "<Figure size 432x288 with 1 Axes>"
      ]
     },
     "metadata": {
      "needs_background": "light"
     },
     "output_type": "display_data"
    }
   ],
   "source": [
    "# visualize inlet conditions (same ALPHA for every Gamma)\n",
    "n, m = len(g), len(x1)\n",
    "for i in range(n):\n",
    "    plt.plot(x1,p1[i*m:(i+1)*m], label=\"ALPHA: {}\".format(a))\n",
    "plt.legend()\n",
    "plt.grid()\n",
    "plt.xlabel(\"x\")\n",
    "plt.ylabel(\"p    \", rotation=np.pi/2)\n",
    "plt.show()"
   ]
  },
  {
   "cell_type": "markdown",
   "metadata": {},
   "source": [
    "Now we define a topology for our solution and set the training parameters. Then we can find a solution for our PDE."
   ]
  },
  {
   "cell_type": "code",
   "execution_count": null,
   "metadata": {},
   "outputs": [],
   "source": [
    "# define solution topology\n",
    "mlp = MLP(pde.n_inputs, pde.n_outputs, 5, 2048, activations=\"sigmoid\")\n"
   ]
  },
  {
   "cell_type": "code",
   "execution_count": null,
   "metadata": {},
   "outputs": [
    {
     "data": {
      "text/html": [
       "\n",
       "    <div>\n",
       "        <style>\n",
       "            /* Turns off some styling */\n",
       "            progress {\n",
       "                /* gets rid of default border in Firefox and Opera. */\n",
       "                border: none;\n",
       "                /* Needs to be in here for Safari polyfill so background images work as expected. */\n",
       "                background-size: auto;\n",
       "            }\n",
       "            .progress-bar-interrupted, .progress-bar-interrupted::-webkit-progress-bar {\n",
       "                background: #F44336;\n",
       "            }\n",
       "        </style>\n",
       "      <progress value='12' class='' max='100', style='width:300px; height:20px; vertical-align: middle;'></progress>\n",
       "      12.00% [12/100 00:30<03:43]\n",
       "    </div>\n",
       "    \n",
       "Epoch 1/100 Losses 1.54620 \n",
       " PDE  [ 0.00000 ] \n",
       " left_right 0.10854\n",
       " top 0.10855\n",
       " bottom_left 1.32911\n",
       " bottom_right 0.00000\n",
       " Val [ 0.00000 ]<p>Epoch 2/100 Losses 1.54540 \n",
       " PDE  [ 0.00000 ] \n",
       " left_right 0.10727\n",
       " top 0.10710\n",
       " bottom_left 1.33103\n",
       " bottom_right 0.00000\n",
       " Val [ 0.00000 ]<p>Epoch 3/100 Losses 1.54043 \n",
       " PDE  [ 0.00004 ] \n",
       " left_right 0.10677\n",
       " top 0.10517\n",
       " bottom_left 1.32841\n",
       " bottom_right 0.00004\n",
       " Val [ 0.00018 ]<p>Epoch 4/100 Losses 1.50048 \n",
       " PDE  [ 0.00292 ] \n",
       " left_right 0.10464\n",
       " top 0.08932\n",
       " bottom_left 1.30032\n",
       " bottom_right 0.00328\n",
       " Val [ 0.01038 ]<p>Epoch 5/100 Losses 1.43346 \n",
       " PDE  [ 0.02393 ] \n",
       " left_right 0.10692\n",
       " top 0.05516\n",
       " bottom_left 1.21948\n",
       " bottom_right 0.02797\n",
       " Val [ 0.03336 ]<p>Epoch 6/100 Losses 1.40219 \n",
       " PDE  [ 0.03959 ] \n",
       " left_right 0.11207\n",
       " top 0.03918\n",
       " bottom_left 1.17179\n",
       " bottom_right 0.03957\n",
       " Val [ 0.04685 ]<p>Epoch 7/100 Losses 1.37831 \n",
       " PDE  [ 0.05174 ] \n",
       " left_right 0.11722\n",
       " top 0.02947\n",
       " bottom_left 1.13894\n",
       " bottom_right 0.04094\n",
       " Val [ 0.05734 ]<p>Epoch 8/100 Losses 1.35869 \n",
       " PDE  [ 0.06073 ] \n",
       " left_right 0.12033\n",
       " top 0.02352\n",
       " bottom_left 1.11415\n",
       " bottom_right 0.03996\n",
       " Val [ 0.06558 ]<p>Epoch 9/100 Losses 1.34138 \n",
       " PDE  [ 0.06680 ] \n",
       " left_right 0.12028\n",
       " top 0.02019\n",
       " bottom_left 1.09466\n",
       " bottom_right 0.03944\n",
       " Val [ 0.06846 ]<p>Epoch 10/100 Losses 1.32347 \n",
       " PDE  [ 0.07153 ] \n",
       " left_right 0.11669\n",
       " top 0.01880\n",
       " bottom_left 1.07530\n",
       " bottom_right 0.04115\n",
       " Val [ 0.07176 ]<p>Epoch 11/100 Losses 1.30091 \n",
       " PDE  [ 0.07578 ] \n",
       " left_right 0.10821\n",
       " top 0.01932\n",
       " bottom_left 1.05215\n",
       " bottom_right 0.04545\n",
       " Val [ 0.07802 ]<p>Epoch 12/100 Losses 1.26710 \n",
       " PDE  [ 0.08083 ] \n",
       " left_right 0.09259\n",
       " top 0.02262\n",
       " bottom_left 1.01876\n",
       " bottom_right 0.05230\n",
       " Val [ 0.08433 ]<p>\n",
       "\n",
       "    <div>\n",
       "        <style>\n",
       "            /* Turns off some styling */\n",
       "            progress {\n",
       "                /* gets rid of default border in Firefox and Opera. */\n",
       "                border: none;\n",
       "                /* Needs to be in here for Safari polyfill so background images work as expected. */\n",
       "                background-size: auto;\n",
       "            }\n",
       "            .progress-bar-interrupted, .progress-bar-interrupted::-webkit-progress-bar {\n",
       "                background: #F44336;\n",
       "            }\n",
       "        </style>\n",
       "      <progress value='50' class='' max='169', style='width:300px; height:20px; vertical-align: middle;'></progress>\n",
       "      29.59% [50/169 00:00<00:00 val loss 0.08922]\n",
       "    </div>\n",
       "    "
      ],
      "text/plain": [
       "<IPython.core.display.HTML object>"
      ]
     },
     "metadata": {},
     "output_type": "display_data"
    },
    {
     "name": "stderr",
     "output_type": "stream",
     "text": [
      "/opt/conda/lib/python3.7/site-packages/numpy/core/fromnumeric.py:3257: RuntimeWarning: Mean of empty slice.\n",
      "  out=out, **kwargs)\n",
      "/opt/conda/lib/python3.7/site-packages/numpy/core/_methods.py:161: RuntimeWarning: invalid value encountered in double_scalars\n",
      "  ret = ret.dtype.type(ret / rcount)\n"
     ]
    },
    {
     "ename": "KeyboardInterrupt",
     "evalue": "",
     "output_type": "error",
     "traceback": [
      "\u001b[0;31m\u001b[0m",
      "\u001b[0;31mKeyboardInterrupt\u001b[0mTraceback (most recent call last)",
      "\u001b[0;32m<ipython-input-7-4f3c75a32474>\u001b[0m in \u001b[0;36m<module>\u001b[0;34m\u001b[0m\n\u001b[1;32m      3\u001b[0m \u001b[0mpde\u001b[0m\u001b[0;34m.\u001b[0m\u001b[0mcompile\u001b[0m\u001b[0;34m(\u001b[0m\u001b[0mmlp\u001b[0m\u001b[0;34m,\u001b[0m \u001b[0moptimizer\u001b[0m\u001b[0;34m)\u001b[0m\u001b[0;34m\u001b[0m\u001b[0;34m\u001b[0m\u001b[0m\n\u001b[1;32m      4\u001b[0m \u001b[0;34m\u001b[0m\u001b[0m\n\u001b[0;32m----> 5\u001b[0;31m \u001b[0mhist\u001b[0m \u001b[0;34m=\u001b[0m \u001b[0mpde\u001b[0m\u001b[0;34m.\u001b[0m\u001b[0msolve\u001b[0m\u001b[0;34m(\u001b[0m\u001b[0mepochs\u001b[0m\u001b[0;34m=\u001b[0m\u001b[0;36m100\u001b[0m\u001b[0;34m)\u001b[0m\u001b[0;34m\u001b[0m\u001b[0;34m\u001b[0m\u001b[0m\n\u001b[0m",
      "\u001b[0;32m/workspace/examples/nangs/pde.py\u001b[0m in \u001b[0;36msolve\u001b[0;34m(self, epochs, batch_size, device, path)\u001b[0m\n\u001b[1;32m    193\u001b[0m                     \u001b[0minputs\u001b[0m \u001b[0;34m=\u001b[0m \u001b[0minputs\u001b[0m\u001b[0;34m.\u001b[0m\u001b[0mto\u001b[0m\u001b[0;34m(\u001b[0m\u001b[0mdevice\u001b[0m\u001b[0;34m)\u001b[0m\u001b[0;34m\u001b[0m\u001b[0;34m\u001b[0m\u001b[0m\n\u001b[1;32m    194\u001b[0m                     \u001b[0minputs\u001b[0m\u001b[0;34m.\u001b[0m\u001b[0mrequires_grad\u001b[0m \u001b[0;34m=\u001b[0m \u001b[0;32mTrue\u001b[0m\u001b[0;34m\u001b[0m\u001b[0;34m\u001b[0m\u001b[0m\n\u001b[0;32m--> 195\u001b[0;31m                     \u001b[0moutputs\u001b[0m \u001b[0;34m=\u001b[0m \u001b[0mself\u001b[0m\u001b[0;34m.\u001b[0m\u001b[0msolution\u001b[0m\u001b[0;34m(\u001b[0m\u001b[0minputs\u001b[0m\u001b[0;34m)\u001b[0m\u001b[0;34m\u001b[0m\u001b[0;34m\u001b[0m\u001b[0m\n\u001b[0m\u001b[1;32m    196\u001b[0m                     \u001b[0;31m# compute gradients of outputs w.r.t. inputs\u001b[0m\u001b[0;34m\u001b[0m\u001b[0;34m\u001b[0m\u001b[0;34m\u001b[0m\u001b[0m\n\u001b[1;32m    197\u001b[0m                     \u001b[0mgrads\u001b[0m\u001b[0;34m,\u001b[0m \u001b[0m_inputs\u001b[0m\u001b[0;34m,\u001b[0m \u001b[0m_outputs\u001b[0m \u001b[0;34m=\u001b[0m \u001b[0mself\u001b[0m\u001b[0;34m.\u001b[0m\u001b[0mcomputeGrads\u001b[0m\u001b[0;34m(\u001b[0m\u001b[0minputs\u001b[0m\u001b[0;34m,\u001b[0m \u001b[0moutputs\u001b[0m\u001b[0;34m)\u001b[0m\u001b[0;34m\u001b[0m\u001b[0;34m\u001b[0m\u001b[0m\n",
      "\u001b[0;32m/opt/conda/lib/python3.7/site-packages/torch/nn/modules/module.py\u001b[0m in \u001b[0;36m__call__\u001b[0;34m(self, *input, **kwargs)\u001b[0m\n\u001b[1;32m    539\u001b[0m             \u001b[0mresult\u001b[0m \u001b[0;34m=\u001b[0m \u001b[0mself\u001b[0m\u001b[0;34m.\u001b[0m\u001b[0m_slow_forward\u001b[0m\u001b[0;34m(\u001b[0m\u001b[0;34m*\u001b[0m\u001b[0minput\u001b[0m\u001b[0;34m,\u001b[0m \u001b[0;34m**\u001b[0m\u001b[0mkwargs\u001b[0m\u001b[0;34m)\u001b[0m\u001b[0;34m\u001b[0m\u001b[0;34m\u001b[0m\u001b[0m\n\u001b[1;32m    540\u001b[0m         \u001b[0;32melse\u001b[0m\u001b[0;34m:\u001b[0m\u001b[0;34m\u001b[0m\u001b[0;34m\u001b[0m\u001b[0m\n\u001b[0;32m--> 541\u001b[0;31m             \u001b[0mresult\u001b[0m \u001b[0;34m=\u001b[0m \u001b[0mself\u001b[0m\u001b[0;34m.\u001b[0m\u001b[0mforward\u001b[0m\u001b[0;34m(\u001b[0m\u001b[0;34m*\u001b[0m\u001b[0minput\u001b[0m\u001b[0;34m,\u001b[0m \u001b[0;34m**\u001b[0m\u001b[0mkwargs\u001b[0m\u001b[0;34m)\u001b[0m\u001b[0;34m\u001b[0m\u001b[0;34m\u001b[0m\u001b[0m\n\u001b[0m\u001b[1;32m    542\u001b[0m         \u001b[0;32mfor\u001b[0m \u001b[0mhook\u001b[0m \u001b[0;32min\u001b[0m \u001b[0mself\u001b[0m\u001b[0;34m.\u001b[0m\u001b[0m_forward_hooks\u001b[0m\u001b[0;34m.\u001b[0m\u001b[0mvalues\u001b[0m\u001b[0;34m(\u001b[0m\u001b[0;34m)\u001b[0m\u001b[0;34m:\u001b[0m\u001b[0;34m\u001b[0m\u001b[0;34m\u001b[0m\u001b[0m\n\u001b[1;32m    543\u001b[0m             \u001b[0mhook_result\u001b[0m \u001b[0;34m=\u001b[0m \u001b[0mhook\u001b[0m\u001b[0;34m(\u001b[0m\u001b[0mself\u001b[0m\u001b[0;34m,\u001b[0m \u001b[0minput\u001b[0m\u001b[0;34m,\u001b[0m \u001b[0mresult\u001b[0m\u001b[0;34m)\u001b[0m\u001b[0;34m\u001b[0m\u001b[0;34m\u001b[0m\u001b[0m\n",
      "\u001b[0;32m/workspace/examples/nangs/solutions.py\u001b[0m in \u001b[0;36mforward\u001b[0;34m(self, x)\u001b[0m\n\u001b[1;32m     28\u001b[0m \u001b[0;34m\u001b[0m\u001b[0m\n\u001b[1;32m     29\u001b[0m     \u001b[0;32mdef\u001b[0m \u001b[0mforward\u001b[0m\u001b[0;34m(\u001b[0m\u001b[0mself\u001b[0m\u001b[0;34m,\u001b[0m \u001b[0mx\u001b[0m\u001b[0;34m)\u001b[0m\u001b[0;34m:\u001b[0m\u001b[0;34m\u001b[0m\u001b[0;34m\u001b[0m\u001b[0m\n\u001b[0;32m---> 30\u001b[0;31m         \u001b[0mx\u001b[0m \u001b[0;34m=\u001b[0m \u001b[0mself\u001b[0m\u001b[0;34m.\u001b[0m\u001b[0mfc_in\u001b[0m\u001b[0;34m(\u001b[0m\u001b[0mx\u001b[0m\u001b[0;34m)\u001b[0m\u001b[0;34m\u001b[0m\u001b[0;34m\u001b[0m\u001b[0m\n\u001b[0m\u001b[1;32m     31\u001b[0m         \u001b[0;32mfor\u001b[0m \u001b[0mlayer\u001b[0m \u001b[0;32min\u001b[0m \u001b[0mself\u001b[0m\u001b[0;34m.\u001b[0m\u001b[0mfc_hidden\u001b[0m\u001b[0;34m:\u001b[0m\u001b[0;34m\u001b[0m\u001b[0;34m\u001b[0m\u001b[0m\n\u001b[1;32m     32\u001b[0m             \u001b[0mx\u001b[0m \u001b[0;34m=\u001b[0m \u001b[0mlayer\u001b[0m\u001b[0;34m(\u001b[0m\u001b[0mx\u001b[0m\u001b[0;34m)\u001b[0m\u001b[0;34m\u001b[0m\u001b[0;34m\u001b[0m\u001b[0m\n",
      "\u001b[0;32m/opt/conda/lib/python3.7/site-packages/torch/nn/modules/module.py\u001b[0m in \u001b[0;36m__call__\u001b[0;34m(self, *input, **kwargs)\u001b[0m\n\u001b[1;32m    539\u001b[0m             \u001b[0mresult\u001b[0m \u001b[0;34m=\u001b[0m \u001b[0mself\u001b[0m\u001b[0;34m.\u001b[0m\u001b[0m_slow_forward\u001b[0m\u001b[0;34m(\u001b[0m\u001b[0;34m*\u001b[0m\u001b[0minput\u001b[0m\u001b[0;34m,\u001b[0m \u001b[0;34m**\u001b[0m\u001b[0mkwargs\u001b[0m\u001b[0;34m)\u001b[0m\u001b[0;34m\u001b[0m\u001b[0;34m\u001b[0m\u001b[0m\n\u001b[1;32m    540\u001b[0m         \u001b[0;32melse\u001b[0m\u001b[0;34m:\u001b[0m\u001b[0;34m\u001b[0m\u001b[0;34m\u001b[0m\u001b[0m\n\u001b[0;32m--> 541\u001b[0;31m             \u001b[0mresult\u001b[0m \u001b[0;34m=\u001b[0m \u001b[0mself\u001b[0m\u001b[0;34m.\u001b[0m\u001b[0mforward\u001b[0m\u001b[0;34m(\u001b[0m\u001b[0;34m*\u001b[0m\u001b[0minput\u001b[0m\u001b[0;34m,\u001b[0m \u001b[0;34m**\u001b[0m\u001b[0mkwargs\u001b[0m\u001b[0;34m)\u001b[0m\u001b[0;34m\u001b[0m\u001b[0;34m\u001b[0m\u001b[0m\n\u001b[0m\u001b[1;32m    542\u001b[0m         \u001b[0;32mfor\u001b[0m \u001b[0mhook\u001b[0m \u001b[0;32min\u001b[0m \u001b[0mself\u001b[0m\u001b[0;34m.\u001b[0m\u001b[0m_forward_hooks\u001b[0m\u001b[0;34m.\u001b[0m\u001b[0mvalues\u001b[0m\u001b[0;34m(\u001b[0m\u001b[0;34m)\u001b[0m\u001b[0;34m:\u001b[0m\u001b[0;34m\u001b[0m\u001b[0;34m\u001b[0m\u001b[0m\n\u001b[1;32m    543\u001b[0m             \u001b[0mhook_result\u001b[0m \u001b[0;34m=\u001b[0m \u001b[0mhook\u001b[0m\u001b[0;34m(\u001b[0m\u001b[0mself\u001b[0m\u001b[0;34m,\u001b[0m \u001b[0minput\u001b[0m\u001b[0;34m,\u001b[0m \u001b[0mresult\u001b[0m\u001b[0;34m)\u001b[0m\u001b[0;34m\u001b[0m\u001b[0;34m\u001b[0m\u001b[0m\n",
      "\u001b[0;32m/opt/conda/lib/python3.7/site-packages/torch/nn/modules/container.py\u001b[0m in \u001b[0;36mforward\u001b[0;34m(self, input)\u001b[0m\n\u001b[1;32m     90\u001b[0m     \u001b[0;32mdef\u001b[0m \u001b[0mforward\u001b[0m\u001b[0;34m(\u001b[0m\u001b[0mself\u001b[0m\u001b[0;34m,\u001b[0m \u001b[0minput\u001b[0m\u001b[0;34m)\u001b[0m\u001b[0;34m:\u001b[0m\u001b[0;34m\u001b[0m\u001b[0;34m\u001b[0m\u001b[0m\n\u001b[1;32m     91\u001b[0m         \u001b[0;32mfor\u001b[0m \u001b[0mmodule\u001b[0m \u001b[0;32min\u001b[0m \u001b[0mself\u001b[0m\u001b[0;34m.\u001b[0m\u001b[0m_modules\u001b[0m\u001b[0;34m.\u001b[0m\u001b[0mvalues\u001b[0m\u001b[0;34m(\u001b[0m\u001b[0;34m)\u001b[0m\u001b[0;34m:\u001b[0m\u001b[0;34m\u001b[0m\u001b[0;34m\u001b[0m\u001b[0m\n\u001b[0;32m---> 92\u001b[0;31m             \u001b[0minput\u001b[0m \u001b[0;34m=\u001b[0m \u001b[0mmodule\u001b[0m\u001b[0;34m(\u001b[0m\u001b[0minput\u001b[0m\u001b[0;34m)\u001b[0m\u001b[0;34m\u001b[0m\u001b[0;34m\u001b[0m\u001b[0m\n\u001b[0m\u001b[1;32m     93\u001b[0m         \u001b[0;32mreturn\u001b[0m \u001b[0minput\u001b[0m\u001b[0;34m\u001b[0m\u001b[0;34m\u001b[0m\u001b[0m\n\u001b[1;32m     94\u001b[0m \u001b[0;34m\u001b[0m\u001b[0m\n",
      "\u001b[0;32m/opt/conda/lib/python3.7/site-packages/torch/nn/modules/module.py\u001b[0m in \u001b[0;36m__call__\u001b[0;34m(self, *input, **kwargs)\u001b[0m\n\u001b[1;32m    539\u001b[0m             \u001b[0mresult\u001b[0m \u001b[0;34m=\u001b[0m \u001b[0mself\u001b[0m\u001b[0;34m.\u001b[0m\u001b[0m_slow_forward\u001b[0m\u001b[0;34m(\u001b[0m\u001b[0;34m*\u001b[0m\u001b[0minput\u001b[0m\u001b[0;34m,\u001b[0m \u001b[0;34m**\u001b[0m\u001b[0mkwargs\u001b[0m\u001b[0;34m)\u001b[0m\u001b[0;34m\u001b[0m\u001b[0;34m\u001b[0m\u001b[0m\n\u001b[1;32m    540\u001b[0m         \u001b[0;32melse\u001b[0m\u001b[0;34m:\u001b[0m\u001b[0;34m\u001b[0m\u001b[0;34m\u001b[0m\u001b[0m\n\u001b[0;32m--> 541\u001b[0;31m             \u001b[0mresult\u001b[0m \u001b[0;34m=\u001b[0m \u001b[0mself\u001b[0m\u001b[0;34m.\u001b[0m\u001b[0mforward\u001b[0m\u001b[0;34m(\u001b[0m\u001b[0;34m*\u001b[0m\u001b[0minput\u001b[0m\u001b[0;34m,\u001b[0m \u001b[0;34m**\u001b[0m\u001b[0mkwargs\u001b[0m\u001b[0;34m)\u001b[0m\u001b[0;34m\u001b[0m\u001b[0;34m\u001b[0m\u001b[0m\n\u001b[0m\u001b[1;32m    542\u001b[0m         \u001b[0;32mfor\u001b[0m \u001b[0mhook\u001b[0m \u001b[0;32min\u001b[0m \u001b[0mself\u001b[0m\u001b[0;34m.\u001b[0m\u001b[0m_forward_hooks\u001b[0m\u001b[0;34m.\u001b[0m\u001b[0mvalues\u001b[0m\u001b[0;34m(\u001b[0m\u001b[0;34m)\u001b[0m\u001b[0;34m:\u001b[0m\u001b[0;34m\u001b[0m\u001b[0;34m\u001b[0m\u001b[0m\n\u001b[1;32m    543\u001b[0m             \u001b[0mhook_result\u001b[0m \u001b[0;34m=\u001b[0m \u001b[0mhook\u001b[0m\u001b[0;34m(\u001b[0m\u001b[0mself\u001b[0m\u001b[0;34m,\u001b[0m \u001b[0minput\u001b[0m\u001b[0;34m,\u001b[0m \u001b[0mresult\u001b[0m\u001b[0;34m)\u001b[0m\u001b[0;34m\u001b[0m\u001b[0;34m\u001b[0m\u001b[0m\n",
      "\u001b[0;32m/opt/conda/lib/python3.7/site-packages/torch/nn/modules/linear.py\u001b[0m in \u001b[0;36mforward\u001b[0;34m(self, input)\u001b[0m\n\u001b[1;32m     85\u001b[0m \u001b[0;34m\u001b[0m\u001b[0m\n\u001b[1;32m     86\u001b[0m     \u001b[0;32mdef\u001b[0m \u001b[0mforward\u001b[0m\u001b[0;34m(\u001b[0m\u001b[0mself\u001b[0m\u001b[0;34m,\u001b[0m \u001b[0minput\u001b[0m\u001b[0;34m)\u001b[0m\u001b[0;34m:\u001b[0m\u001b[0;34m\u001b[0m\u001b[0;34m\u001b[0m\u001b[0m\n\u001b[0;32m---> 87\u001b[0;31m         \u001b[0;32mreturn\u001b[0m \u001b[0mF\u001b[0m\u001b[0;34m.\u001b[0m\u001b[0mlinear\u001b[0m\u001b[0;34m(\u001b[0m\u001b[0minput\u001b[0m\u001b[0;34m,\u001b[0m \u001b[0mself\u001b[0m\u001b[0;34m.\u001b[0m\u001b[0mweight\u001b[0m\u001b[0;34m,\u001b[0m \u001b[0mself\u001b[0m\u001b[0;34m.\u001b[0m\u001b[0mbias\u001b[0m\u001b[0;34m)\u001b[0m\u001b[0;34m\u001b[0m\u001b[0;34m\u001b[0m\u001b[0m\n\u001b[0m\u001b[1;32m     88\u001b[0m \u001b[0;34m\u001b[0m\u001b[0m\n\u001b[1;32m     89\u001b[0m     \u001b[0;32mdef\u001b[0m \u001b[0mextra_repr\u001b[0m\u001b[0;34m(\u001b[0m\u001b[0mself\u001b[0m\u001b[0;34m)\u001b[0m\u001b[0;34m:\u001b[0m\u001b[0;34m\u001b[0m\u001b[0;34m\u001b[0m\u001b[0m\n",
      "\u001b[0;32m/opt/conda/lib/python3.7/site-packages/torch/nn/functional.py\u001b[0m in \u001b[0;36mlinear\u001b[0;34m(input, weight, bias)\u001b[0m\n\u001b[1;32m   1368\u001b[0m     \u001b[0;32mif\u001b[0m \u001b[0minput\u001b[0m\u001b[0;34m.\u001b[0m\u001b[0mdim\u001b[0m\u001b[0;34m(\u001b[0m\u001b[0;34m)\u001b[0m \u001b[0;34m==\u001b[0m \u001b[0;36m2\u001b[0m \u001b[0;32mand\u001b[0m \u001b[0mbias\u001b[0m \u001b[0;32mis\u001b[0m \u001b[0;32mnot\u001b[0m \u001b[0;32mNone\u001b[0m\u001b[0;34m:\u001b[0m\u001b[0;34m\u001b[0m\u001b[0;34m\u001b[0m\u001b[0m\n\u001b[1;32m   1369\u001b[0m         \u001b[0;31m# fused op is marginally faster\u001b[0m\u001b[0;34m\u001b[0m\u001b[0;34m\u001b[0m\u001b[0;34m\u001b[0m\u001b[0m\n\u001b[0;32m-> 1370\u001b[0;31m         \u001b[0mret\u001b[0m \u001b[0;34m=\u001b[0m \u001b[0mtorch\u001b[0m\u001b[0;34m.\u001b[0m\u001b[0maddmm\u001b[0m\u001b[0;34m(\u001b[0m\u001b[0mbias\u001b[0m\u001b[0;34m,\u001b[0m \u001b[0minput\u001b[0m\u001b[0;34m,\u001b[0m \u001b[0mweight\u001b[0m\u001b[0;34m.\u001b[0m\u001b[0mt\u001b[0m\u001b[0;34m(\u001b[0m\u001b[0;34m)\u001b[0m\u001b[0;34m)\u001b[0m\u001b[0;34m\u001b[0m\u001b[0;34m\u001b[0m\u001b[0m\n\u001b[0m\u001b[1;32m   1371\u001b[0m     \u001b[0;32melse\u001b[0m\u001b[0;34m:\u001b[0m\u001b[0;34m\u001b[0m\u001b[0;34m\u001b[0m\u001b[0m\n\u001b[1;32m   1372\u001b[0m         \u001b[0moutput\u001b[0m \u001b[0;34m=\u001b[0m \u001b[0minput\u001b[0m\u001b[0;34m.\u001b[0m\u001b[0mmatmul\u001b[0m\u001b[0;34m(\u001b[0m\u001b[0mweight\u001b[0m\u001b[0;34m.\u001b[0m\u001b[0mt\u001b[0m\u001b[0;34m(\u001b[0m\u001b[0;34m)\u001b[0m\u001b[0;34m)\u001b[0m\u001b[0;34m\u001b[0m\u001b[0;34m\u001b[0m\u001b[0m\n",
      "\u001b[0;31mKeyboardInterrupt\u001b[0m: "
     ]
    }
   ],
   "source": [
    "# find the solution\n",
    "optimizer = torch.optim.Adam(mlp.parameters(), lr=3e-4)\n",
    "pde.compile(mlp, optimizer)\n",
    "\n",
    "hist = pde.solve(epochs=100) "
   ]
  },
  {
   "cell_type": "code",
   "execution_count": null,
   "metadata": {},
   "outputs": [],
   "source": [
    "fig, (ax1, ax2) = plt.subplots(1, 2, figsize=(15,5))\n",
    "ax1.plot(hist['train_loss'], label=\"train_loss\")\n",
    "ax1.plot(hist['val_loss'], label=\"val_loss\")\n",
    "ax1.grid(True)\n",
    "ax1.legend()\n",
    "ax1.set_yscale(\"log\")\n",
    "ax1.set_ylim([1e-2,1])\n",
    "for boco in pde.bocos:\n",
    "    ax2.plot(hist['bocos'][boco.name], label=boco.name)\n",
    "ax2.legend()\n",
    "ax2.grid(True)\n",
    "ax2.set_yscale(\"log\")\n",
    "ax2.set_ylim([1e-4,1])\n",
    "plt.show()"
   ]
  },
  {
   "cell_type": "markdown",
   "metadata": {},
   "source": [
    "Finally, we can evaluate our solution."
   ]
  },
  {
   "cell_type": "code",
   "execution_count": null,
   "metadata": {},
   "outputs": [],
   "source": [
    "# evaluate the solution\n",
    "#pde.load_state_dict('best.pth')\n",
    "\n",
    "x = np.linspace(-1,1,50)\n",
    "y = np.linspace(0,1,25)\n",
    "fig, (ax1, ax2, ax3) = plt.subplots(1, 3, figsize=(20,60))\n",
    "g = np.array([0.1])\n",
    "pde.evaluate({'x': x, 'y': y, 'g': g})\n",
    "p1 = pde.outputs['p']\n",
    "ax1.imshow(p1.reshape((len(y),len(x))), vmin=p1.min(), vmax=p1.max(), origin='lower',\n",
    "           extent=[x.min(), x.max(), y.min(), y.max()])\n",
    "ax1.set_title(f\"$\\\\Gamma$ = 0.1\")\n",
    "g = np.array([0.001])\n",
    "pde.evaluate({'x': x, 'y': y, 'g': g})\n",
    "p2 = pde.outputs['p']\n",
    "ax2.imshow(p2.reshape((len(y),len(x))), vmin=p2.min(), vmax=p2.max(), origin='lower',\n",
    "           extent=[x.min(), x.max(), y.min(), y.max()])\n",
    "ax2.set_title(f\"$\\\\Gamma$ = 0.001\")\n",
    "g = np.array([0.000001])\n",
    "pde.evaluate({'x': x, 'y': y, 'g': g})\n",
    "p3 = pde.outputs['p']\n",
    "ax3.imshow(p3.reshape((len(y),len(x))), vmin=p3.min(), vmax=p3.max(), origin='lower',\n",
    "           extent=[x.min(), x.max(), y.min(), y.max()])\n",
    "ax3.set_title(f\"$\\\\Gamma$ = 0.000001\")\n",
    "#plt.colorbar()\n",
    "plt.show()"
   ]
  },
  {
   "cell_type": "code",
   "execution_count": null,
   "metadata": {},
   "outputs": [],
   "source": [
    "# experimental results\n",
    "exp = {\n",
    "    'x': [0.0, 0.1, 0.2, 0.3, 0.4, 0.5, 0.6, 0.7, 0.8, 0.9, 1.0],\n",
    "    'g_0.1': [1.989,1.402,1.146,0.946,0.775,0.621,0.480,0.349,0.227,0.111,0.0],\n",
    "    'g_0.001': [2.0000,1.9990,1.9997,1.985,1.841,0.951,0.154,0.001,0.0,0.0,0.0],\n",
    "    'g_0.000001': [2.0000,2.0,2.0,1.999,1.964,1.0,0.036,0.001,0.0,0.0,0.0]\n",
    "}\n",
    "\n",
    "x = np.linspace(-1,1,200)\n",
    "y = np.array([0])\n",
    "pde.evaluate({'x': x, 'y': y, 'g': np.array([0.1])})\n",
    "p = pde.outputs['p']\n",
    "plt.plot(x,p, label=f\"$\\\\Gamma$ = 0.1\")\n",
    "pde.evaluate({'x': x, 'y': y, 'g': np.array([0.001])})\n",
    "p = pde.outputs['p']\n",
    "plt.plot(x,p, label=f\"$\\\\Gamma$ = 0.001\")\n",
    "pde.evaluate({'x': x, 'y': y, 'g': np.array([0.000001])})\n",
    "p = pde.outputs['p']\n",
    "plt.plot(x,p, label=f\"$\\\\Gamma$ = 0.000001\")\n",
    "\n",
    "x1, p1, gamma = [], [], 0.1\n",
    "for i in range(len(x)): \n",
    "    if x[i] < 0:\n",
    "        x1.append(x[i])\n",
    "        p1.append(1.+math.tanh(a*(2*x[i]+1)))\n",
    "x1, p1 = np.array(x1), np.array(p1)\n",
    "plt.plot(x1,p1)\n",
    "\n",
    "plt.plot(exp['x'], exp['g_0.1'], '.k')\n",
    "plt.plot(exp['x'], exp['g_0.001'], '.k')\n",
    "plt.plot(exp['x'], exp['g_0.000001'], '.k', label=\"experimental\")\n",
    "plt.grid()\n",
    "plt.xlabel('x (y = 0)')\n",
    "plt.ylabel('$\\\\phi$       ', rotation=np.pi/2)\n",
    "plt.legend()\n",
    "plt.show()"
   ]
  },
  {
   "cell_type": "code",
   "execution_count": null,
   "metadata": {},
   "outputs": [],
   "source": []
  }
 ],
 "metadata": {
  "kernelspec": {
   "display_name": "Python 3",
   "language": "python",
   "name": "python3"
  }
 },
 "nbformat": 4,
 "nbformat_minor": 2
}
