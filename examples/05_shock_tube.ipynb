{
 "cells": [
  {
   "cell_type": "markdown",
   "metadata": {},
   "source": [
    "# Shock Tube\n",
    "\n",
    "> WORK IN PROGRESS !!!\n",
    "\n",
    "In this example we are going to solve the Euler equations for a one-dimensional shock tube.\n",
    "\n",
    "\\begin{equation}\n",
    "    \\begin{array}{c}\n",
    "        \\rho_t + (\\rho u)_x = 0 \\\\\n",
    "        (\\rho u)_t + (\\rho u u + p)_x = 0 \\\\\n",
    "        (\\rho e)_t + (u ( \\rho e + p ))_x = 0 \\\\\n",
    "    \\end{array}\n",
    "\\end{equation}\n",
    "\n",
    "The inputs to the network will be the independent variables $x$ and $t$ and the outputs will be the density, $\\rho$, the velocity $u$ and the pressure $p$. We can compute the internal energy with the expression $\\rho e = 0.5 \\rho u u + p/(\\gamma-1)$ with $\\gamma=1.4$ for air."
   ]
  },
  {
   "cell_type": "markdown",
   "metadata": {},
   "source": [
    "![](https://i1.wp.com/curiosityfluids.com/wp-content/uploads/2016/07/shocktube.gif?fit=600%2C259&ssl=1)"
   ]
  },
  {
   "cell_type": "code",
   "execution_count": null,
   "metadata": {},
   "outputs": [],
   "source": [
    "# autoreload nangs\n",
    "%reload_ext autoreload\n",
    "%autoreload 2\n",
    "%matplotlib inline"
   ]
  },
  {
   "cell_type": "code",
   "execution_count": null,
   "metadata": {},
   "outputs": [],
   "source": [
    "# imports\n",
    "import math\n",
    "import numpy as np \n",
    "import matplotlib.pyplot as plt \n",
    "\n",
    "import torch\n",
    "cuda = True\n",
    "device = \"cuda\" if torch.cuda.is_available() and cuda else \"cpu\""
   ]
  },
  {
   "cell_type": "markdown",
   "metadata": {},
   "source": [
    "## Define PDE\n",
    "\n",
    "First we define our PDE and set the values for training."
   ]
  },
  {
   "cell_type": "code",
   "execution_count": null,
   "metadata": {},
   "outputs": [],
   "source": [
    "# imports\n",
    "from nangs.pde import PDE\n",
    "from nangs.bocos import PeriodicBoco, DirichletBoco\n",
    "\n",
    "# define our PDE\n",
    "class MyPDE(PDE):\n",
    "    def __init__(self, inputs, outputs, params):\n",
    "        super().__init__(inputs, outputs, params)\n",
    "    # the loss of our NN is the PDE !\n",
    "    def computePDELoss(self, grads, inputs, outputs, params): \n",
    "        drdt = grads['r']['t']        \n",
    "        r, u, p = outputs['r'], outputs['u'], outputs['p']\n",
    "        ru = r*u\n",
    "        drudx = self.computeGrad(ru, 'x')\n",
    "        drudt = self.computeGrad(ru, 't')\n",
    "        ruup = r*u*u + p\n",
    "        druupdx =  self.computeGrad(ruup, 'x')\n",
    "        re = p/(params['g']-1) + 0.5*r*u*u\n",
    "        dredt = self.computeGrad(re, 't')\n",
    "        repu = (re+p)*u\n",
    "        drepudx = self.computeGrad(repu, 'x')\n",
    "        return [\n",
    "            drdt + drudx,\n",
    "            drudt + druupdx,\n",
    "            dredt + drepudx \n",
    "        ]\n",
    "\n",
    "# instanciate pde with keys for inputs/outputs\n",
    "pde = MyPDE(inputs=['x', 't'], outputs=['r', 'u', 'p'], params=['g'])\n",
    "\n",
    "# define input values for training\n",
    "x = np.linspace(0,1,50)\n",
    "t = np.linspace(0,1,33)\n",
    "g = 1.4\n",
    "\n",
    "pde.setValues({'x': x, 't': t, 'g': np.array([g])})\n",
    "\n",
    "# define input values for validation\n",
    "x_v = np.linspace(0,1,25)\n",
    "t_v = np.linspace(0,1,15)\n",
    "pde.setValues({'x': x_v, 't': t_v}, train=False)"
   ]
  },
  {
   "cell_type": "code",
   "execution_count": null,
   "metadata": {},
   "outputs": [],
   "source": [
    "# initial condition (dirichlet for temporal dimension)\n",
    "rl, pl, rr, pr = 10, 10/g, 1, 1/g\n",
    "\n",
    "r0 = np.zeros(len(x))\n",
    "u0 = np.zeros(len(x))\n",
    "p0 = np.zeros(len(x))\n",
    "for i, _x in enumerate(x):\n",
    "    u0[i] = 0.\n",
    "    if _x < 0.5:\n",
    "        r0[i] = rl\n",
    "        p0[i] = pl\n",
    "    else:\n",
    "        r0[i] = rr\n",
    "        p0[i] = pr\n",
    "    \n",
    "boco = DirichletBoco('initial_condition', {'x': x, 't': np.array([0])}, {'r': r0, 'u': u0, 'p': p0})\n",
    "pde.addBoco(boco)\n",
    "\n",
    "# dirichlet b.c for the space dimension\n",
    "x1, x2 = np.array([0]), np.array([1])\n",
    "ones = np.ones(len(t))\n",
    "boco = DirichletBoco('boco_left', {'x': x1, 't': t}, {'r': r0[0]*ones, 'u': u0[0]*ones, 'p': p0[0]*ones})\n",
    "pde.addBoco(boco)\n",
    "boco = DirichletBoco('boco_rigth', {'x': x2, 't': t}, {'r': r0[len(x)-1]*ones, 'u': u0[len(x)-1]*ones, 'p': p0[len(x)-1]*ones})\n",
    "pde.addBoco(boco)"
   ]
  },
  {
   "cell_type": "code",
   "execution_count": null,
   "metadata": {},
   "outputs": [
    {
     "data": {
      "image/png": "[encoded data removed]",
      "text/plain": [
       "<Figure size 432x288 with 1 Axes>"
      ]
     },
     "metadata": {
      "needs_background": "light"
     },
     "output_type": "display_data"
    }
   ],
   "source": [
    "# visualize initial condition\n",
    "\n",
    "plt.plot(x, r0)\n",
    "plt.plot(x, u0)\n",
    "plt.plot(x, p0)\n",
    "plt.legend(['$\\\\rho$', 'u', 'p'])\n",
    "plt.grid()\n",
    "plt.xlabel('x')\n",
    "plt.show()"
   ]
  },
  {
   "cell_type": "markdown",
   "metadata": {},
   "source": [
    "Now we define a topology for our solution and set the training parameters. Then we can find a solution for our PDE."
   ]
  },
  {
   "cell_type": "code",
   "execution_count": null,
   "metadata": {},
   "outputs": [],
   "source": [
    "# define solution topology\n",
    "topo = {'layers': 10, 'neurons': 100, 'activations': 'relu'}\n",
    "pde.buildSolution(topo)\n",
    "\n",
    "# set optimization parameters\n",
    "pde.compile(epochs=100)\n"
   ]
  },
  {
   "cell_type": "code",
   "execution_count": null,
   "metadata": {},
   "outputs": [
    {
     "data": {
      "text/html": [
       "\n",
       "    <div>\n",
       "        <style>\n",
       "            /* Turns off some styling */\n",
       "            progress {\n",
       "                /* gets rid of default border in Firefox and Opera. */\n",
       "                border: none;\n",
       "                /* Needs to be in here for Safari polyfill so background images work as expected. */\n",
       "                background-size: auto;\n",
       "            }\n",
       "            .progress-bar-interrupted, .progress-bar-interrupted::-webkit-progress-bar {\n",
       "                background: #F44336;\n",
       "            }\n",
       "        </style>\n",
       "      <progress value='16' class='' max='100', style='width:300px; height:20px; vertical-align: middle;'></progress>\n",
       "      16.00% [16/100 00:33<02:56]\n",
       "    </div>\n",
       "    \n",
       "Epoch 1/100 Losses 69.56745 \n",
       " PDE  [ 0.01775 0.00212 0.02922 ] \n",
       " initial_condition 23.23175\n",
       " boco_left 45.97603\n",
       " boco_rigth 0.34331\n",
       " Val [ 0.50959 0.07556 0.93137 ]<p>Epoch 2/100 Losses 26.38403 \n",
       " PDE  [ 0.43323 0.91300 0.96332 ] \n",
       " initial_condition 9.24238\n",
       " boco_left 7.90418\n",
       " boco_rigth 8.46762\n",
       " Val [ 0.13262 2.58801 0.31912 ]<p>Epoch 3/100 Losses 16.17837 \n",
       " PDE  [ 0.17914 4.17831 0.19154 ] \n",
       " initial_condition 6.82927\n",
       " boco_left 3.65778\n",
       " boco_rigth 4.17500\n",
       " Val [ 0.11963 5.01133 0.20426 ]<p>Epoch 4/100 Losses 13.81379 \n",
       " PDE  [ 0.15398 5.27687 0.09654 ] \n",
       " initial_condition 6.16604\n",
       " boco_left 4.15350\n",
       " boco_rigth 1.65178\n",
       " Val [ 0.09673 5.37912 0.08054 ]<p>Epoch 5/100 Losses 13.06863 \n",
       " PDE  [ 0.11877 5.24112 0.09015 ] \n",
       " initial_condition 5.74635\n",
       " boco_left 4.74215\n",
       " boco_rigth 0.76345\n",
       " Val [ 0.20461 5.21039 0.07410 ]<p>Epoch 6/100 Losses 12.61725 \n",
       " PDE  [ 0.22535 4.81960 0.18112 ] \n",
       " initial_condition 5.39881\n",
       " boco_left 4.92941\n",
       " boco_rigth 0.54701\n",
       " Val [ 0.18263 4.47833 0.31734 ]<p>Epoch 7/100 Losses 12.20596 \n",
       " PDE  [ 0.33347 4.36910 0.28147 ] \n",
       " initial_condition 5.12709\n",
       " boco_left 4.89164\n",
       " boco_rigth 0.52588\n",
       " Val [ 0.23437 4.43501 0.47588 ]<p>Epoch 8/100 Losses 11.82517 \n",
       " PDE  [ 0.41495 4.08783 0.35937 ] \n",
       " initial_condition 4.92609\n",
       " boco_left 4.73735\n",
       " boco_rigth 0.54101\n",
       " Val [ 0.34997 4.10013 0.49533 ]<p>Epoch 9/100 Losses 11.57863 \n",
       " PDE  [ 0.44248 3.92100 0.42332 ] \n",
       " initial_condition 4.86506\n",
       " boco_left 4.54406\n",
       " boco_rigth 0.57391\n",
       " Val [ 0.64979 3.99315 0.22334 ]<p>Epoch 10/100 Losses 11.40947 \n",
       " PDE  [ 0.43349 3.87460 0.42871 ] \n",
       " initial_condition 4.84579\n",
       " boco_left 4.37646\n",
       " boco_rigth 0.60830\n",
       " Val [ 0.36374 3.72699 0.58326 ]<p>Epoch 11/100 Losses 11.36957 \n",
       " PDE  [ 0.42817 3.82334 0.47389 ] \n",
       " initial_condition 4.86374\n",
       " boco_left 4.19494\n",
       " boco_rigth 0.73575\n",
       " Val [ 0.63853 3.71551 0.21339 ]<p>Epoch 12/100 Losses 11.25001 \n",
       " PDE  [ 0.39086 3.64154 0.47955 ] \n",
       " initial_condition 4.88425\n",
       " boco_left 4.14119\n",
       " boco_rigth 0.72058\n",
       " Val [ 0.50604 3.85934 0.21949 ]<p>Epoch 13/100 Losses 11.00045 \n",
       " PDE  [ 0.30580 3.52589 0.37893 ] \n",
       " initial_condition 4.89651\n",
       " boco_left 3.99144\n",
       " boco_rigth 0.70896\n",
       " Val [ 0.21926 3.20411 0.71213 ]<p>Epoch 14/100 Losses 11.15889 \n",
       " PDE  [ 0.22651 3.55058 0.30162 ] \n",
       " initial_condition 5.05215\n",
       " boco_left 4.07262\n",
       " boco_rigth 0.67455\n",
       " Val [ 0.28740 3.80162 0.10059 ]<p>Epoch 15/100 Losses 11.07953 \n",
       " PDE  [ 0.19147 3.51015 0.21637 ] \n",
       " initial_condition 5.05132\n",
       " boco_left 4.05378\n",
       " boco_rigth 0.66843\n",
       " Val [ 0.23090 3.48348 0.11255 ]<p>Epoch 16/100 Losses 10.85694 \n",
       " PDE  [ 0.20928 3.23146 0.21346 ] \n",
       " initial_condition 5.00333\n",
       " boco_left 3.90432\n",
       " boco_rigth 0.73122\n",
       " Val [ 0.19680 2.57346 0.51865 ]<p>\n",
       "\n",
       "    <div>\n",
       "        <style>\n",
       "            /* Turns off some styling */\n",
       "            progress {\n",
       "                /* gets rid of default border in Firefox and Opera. */\n",
       "                border: none;\n",
       "                /* Needs to be in here for Safari polyfill so background images work as expected. */\n",
       "                background-size: auto;\n",
       "            }\n",
       "            .progress-bar-interrupted, .progress-bar-interrupted::-webkit-progress-bar {\n",
       "                background: #F44336;\n",
       "            }\n",
       "        </style>\n",
       "      <progress value='15' class='' max='52', style='width:300px; height:20px; vertical-align: middle;'></progress>\n",
       "      28.85% [15/52 00:00<00:02 train loss 1.07981]\n",
       "    </div>\n",
       "    "
      ],
      "text/plain": [
       "<IPython.core.display.HTML object>"
      ]
     },
     "metadata": {},
     "output_type": "display_data"
    },
    {
     "name": "stderr",
     "output_type": "stream",
     "text": [
      "/opt/conda/lib/python3.7/site-packages/numpy/core/fromnumeric.py:3257: RuntimeWarning: Mean of empty slice.\n",
      "  out=out, **kwargs)\n",
      "/opt/conda/lib/python3.7/site-packages/numpy/core/_methods.py:161: RuntimeWarning: invalid value encountered in double_scalars\n",
      "  ret = ret.dtype.type(ret / rcount)\n"
     ]
    }
   ],
   "source": [
    "# find the solution\n",
    "hist = pde.solve(device, 'st_best.pth') "
   ]
  },
  {
   "cell_type": "code",
   "execution_count": null,
   "metadata": {},
   "outputs": [],
   "source": [
    "fig, (ax1, ax2) = plt.subplots(1, 2, figsize=(15,5))\n",
    "ax1.plot(hist['train_loss'], label=\"train_loss\")\n",
    "ax1.plot(hist['val_loss'], label=\"val_loss\")\n",
    "ax1.grid(True)\n",
    "ax1.legend()\n",
    "ax1.set_yscale(\"log\")\n",
    "for boco in pde.bocos:\n",
    "    ax2.plot(hist['bocos'][boco.name], label=boco.name)\n",
    "ax2.legend()\n",
    "ax2.grid(True)\n",
    "ax2.set_yscale(\"log\")\n",
    "plt.show()"
   ]
  },
  {
   "cell_type": "markdown",
   "metadata": {},
   "source": [
    "Finally, we can evaluate our solution."
   ]
  },
  {
   "cell_type": "code",
   "execution_count": null,
   "metadata": {},
   "outputs": [],
   "source": [
    "# evaluate the solution\n",
    "pde.load_state_dict('st_best.pth')\n",
    "x = np.linspace(0,1,50)\n",
    "t = np.linspace(0,1,20)\n",
    "r, u, p = [], [], []\n",
    "for _t in t:\n",
    "    pde.evaluate({'x': x, 't': np.array([0])}, device)\n",
    "    r.append(pde.outputs['r'])\n",
    "    u.append(pde.outputs['u'])\n",
    "    p.append(pde.outputs['p'])\n",
    "\n",
    "from matplotlib import animation, rc\n",
    "rc('animation', html='html5')\n",
    "\n",
    "def plot(x, r, u, p, t):\n",
    "    ax.clear()\n",
    "    tit = ax.set_title(f\"t = {t:.2f}\", fontsize=14)\n",
    "    ax.plot(x, r, label=\"$\\\\rho$\")\n",
    "    ax.plot(x, u, label=\"u\")\n",
    "    ax.plot(x, p, label=\"p\")\n",
    "    ax.set_xlabel(\"x\", fontsize=14)\n",
    "    ax.legend(loc=\"upper right\")\n",
    "    ax.grid(True)\n",
    "    ax.set_xlim([0, 1])\n",
    "    ax.set_ylim([-0.2, 10.2])\n",
    "    return [tit]\n",
    "\n",
    "def get_anim(fig, ax, x, r, u, p, t):\n",
    "    def anim(i):\n",
    "        return plot(x, r[i], u[i], p[i], t[i])\n",
    "    return anim\n",
    "\n",
    "fig = plt.figure(figsize=(10,5))\n",
    "ax = fig.add_subplot(111, autoscale_on=False)\n",
    "animate = get_anim(fig, ax, x, r, u, p, t)\n",
    "anim = animation.FuncAnimation(fig, animate, frames=len(t), interval=100, blit=True)"
   ]
  },
  {
   "cell_type": "code",
   "execution_count": null,
   "metadata": {},
   "outputs": [],
   "source": [
    "anim"
   ]
  },
  {
   "cell_type": "code",
   "execution_count": null,
   "metadata": {},
   "outputs": [],
   "source": []
  }
 ],
 "metadata": {
  "kernelspec": {
   "display_name": "Python 3",
   "language": "python",
   "name": "python3"
  }
 },
 "nbformat": 4,
 "nbformat_minor": 2
}
