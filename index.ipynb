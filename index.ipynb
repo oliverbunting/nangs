{
 "cells": [
  {
   "cell_type": "code",
   "execution_count": null,
   "metadata": {},
   "outputs": [],
   "source": [
    "#hide\n",
    "\n",
    "%load_ext autoreload\n",
    "%autoreload 2"
   ]
  },
  {
   "cell_type": "markdown",
   "metadata": {},
   "source": [
    "# Welcome to nangs\n",
    "\n",
    "> Solving Partial Differential Equations with Neural Networks."
   ]
  },
  {
   "cell_type": "markdown",
   "metadata": {},
   "source": [
    "Nangs is a Python library built on top of Pytorch to solve Partial Differential Equations.\n",
    "\n",
    "Our objective is to develop a new tool for simulating nature, using Neural Networks as solution approximation to Partial Differential Equations, increasing accuracy and optimziation speed while reducing computational cost.\n",
    "\n",
    "Read our [paper](https://arxiv.org/abs/1912.04737) to know more."
   ]
  },
  {
   "cell_type": "markdown",
   "metadata": {},
   "source": [
    "## Installing"
   ]
  },
  {
   "cell_type": "markdown",
   "metadata": {},
   "source": [
    "nangs is on PyPI so you can just run:"
   ]
  },
  {
   "cell_type": "markdown",
   "metadata": {},
   "source": [
    "`pip install nangs`"
   ]
  },
  {
   "cell_type": "markdown",
   "metadata": {},
   "source": [
    "## Getting Started"
   ]
  },
  {
   "cell_type": "markdown",
   "metadata": {},
   "source": [
    "Let's assume we want to solve the following PDE:"
   ]
  },
  {
   "cell_type": "markdown",
   "metadata": {},
   "source": [
    "$$\\frac{\\partial \\phi}{\\partial t} + u \\frac{\\partial \\phi}{\\partial x} = 0$$"
   ]
  },
  {
   "cell_type": "markdown",
   "metadata": {},
   "source": [
    "Different numerical techniques that solve this problem exist, and all of them are based on finding an approximate function that satisfies the PDE. Traditional numerical methods discretize the domain into small elements where a form of the solutions is assumed (for example, a constant) and then the final solution is composed as a piece-wise, discontinuous function.\n",
    "\n",
    "Nangs uses the property of neural networks (NNs) as universal function approximators to find a continuous and derivable solution to the PDE, that requires significant less computing resources compared with traditional techniques and with the advantage of including the free-parameters as part of the solution.\n",
    "\n",
    "The independen variables (i.e, $x$ and $t$) are used as input values for the NN, and the solution (i.e. $\\phi$) is the output. In order to find the solution, at each step the NN outputs are derived w.r.t the inputs. Then, a loss function that matches the PDE is built and the weights are updated accordingly. If the loss function goes to zero, we can assume that our NN is indeed the solution to our PDE."
   ]
  },
  {
   "cell_type": "code",
   "execution_count": null,
   "metadata": {},
   "outputs": [],
   "source": [
    "#hide\n",
    "\n",
    "import math\n",
    "import numpy as np \n",
    "import matplotlib.pyplot as plt \n",
    "\n",
    "import torch\n",
    "cuda = False\n",
    "device = torch.device(\"cuda:0\" if torch.cuda.is_available() and cuda else \"cpu\")\n",
    "\n",
    "\n",
    "\n",
    "if False:\n",
    "    # import nangs\n",
    "    from nangs import PDE\n",
    "    from nangs.bocos import PeriodicBoco, DirichletBoco\n",
    "\n",
    "    # define custom PDE\n",
    "    class MyPDE(PDE):\n",
    "        def __init__(self, inputs=None, outputs=None, params=None):\n",
    "            super().__init__(inputs, outputs, params)\n",
    "        def computePdeLoss(self, grads, inputs, params): \n",
    "            # here is where the magic happens\n",
    "            dpdt, dpdx = grads['p']['t'], grads['p']['x']\n",
    "            u = params['u']\n",
    "            return dpdt + u*dpdx\n",
    "\n",
    "    # instanciate pde\n",
    "    pde = MyPDE(inputs=['x', 't'], outputs=['p'], params=['u'])\n",
    "\n",
    "    # define input values for training\n",
    "    x = np.linspace(0,1,30)\n",
    "    t = np.linspace(0,1,20)\n",
    "    u = np.array([1.0])\n",
    "    pde.setTrainValues({'x': x, 't': t, 'u': u})\n",
    "\n",
    "    # define input values for validation\n",
    "    x_v = np.linspace(0,1,50)\n",
    "    t_v = np.linspace(0,1,30)\n",
    "    pde.setValValues({'x': x_v, 't': t_v})\n",
    "\n",
    "    # periodic b.c for the space dimension\n",
    "    x1, x2 = np.array([0]), np.array([1])\n",
    "    boco = PeriodicBoco(pde.inputs, {'x': x1, 't': t}, {'x': x2, 't': t})\n",
    "    pde.addBoco(boco)\n",
    "\n",
    "    # initial condition (dirichlet for temporal dimension)\n",
    "    p0 = np.sin(2.*math.pi*x)\n",
    "    boco = DirichletBoco(pde.inputs, pde.outputs, {'x': x, 't': np.array([0])}, {'p': p0})\n",
    "    pde.addBoco(boco)\n",
    "\n",
    "    # define solution topology\n",
    "    mlp = {'layers': 3, 'neurons': 100, 'activations': 'relu'}\n",
    "    pde.buildModel(mlp)\n",
    "\n",
    "    # set optimization parameters\n",
    "    pde.setSolverParams(lr=0.01, epochs=20, batch_size=50)\n",
    "\n",
    "    # find the solution\n",
    "    path = 'best_model.pth'\n",
    "    pde.solve(device, path) \n",
    "\n",
    "    # evaluate the solution\n",
    "    pde.model.load_state_dict(torch.load(path))\n",
    "    x = np.linspace(0,1,50)\n",
    "    t = np.linspace(0,1,4)\n",
    "    for _t in t:\n",
    "        p0 = np.sin(2.*math.pi*(x-u*_t))\n",
    "        p = pde.eval({'x': x, 't': np.array([_t])}, device)\n",
    "        plt.plot(x, p, 'k')\n",
    "        plt.plot(x, p0)\n",
    "        plt.show()"
   ]
  },
  {
   "cell_type": "markdown",
   "metadata": {},
   "source": [
    "## Step by step guide"
   ]
  },
  {
   "cell_type": "markdown",
   "metadata": {},
   "source": [
    "Let's go through the code step by step. First, we import the nangs module to acces its predefined classes and operations to solve PDEs with NNs. The base class we work with is the PDE class, where we have all the methods to set the data and find a solution. Then, the bocos module gives us access to the different boundary conditions implemented."
   ]
  },
  {
   "cell_type": "markdown",
   "metadata": {},
   "source": [
    "## Copyright"
   ]
  },
  {
   "cell_type": "markdown",
   "metadata": {},
   "source": [
    "Copyright 2020 onwards, SensioAI. Licensed under the Apache License, Version 2.0 (the \"License\"); you may not use this project's files except in compliance with the License. A copy of the License is provided in the LICENSE file in this repository."
   ]
  }
 ],
 "metadata": {
  "kernelspec": {
   "display_name": "Python 3",
   "language": "python",
   "name": "python3"
  }
 },
 "nbformat": 4,
 "nbformat_minor": 2
}
