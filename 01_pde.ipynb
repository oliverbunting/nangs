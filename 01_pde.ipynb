{
 "cells": [
  {
   "cell_type": "code",
   "execution_count": null,
   "metadata": {},
   "outputs": [],
   "source": [
    "# default_exp pde"
   ]
  },
  {
   "cell_type": "code",
   "execution_count": null,
   "metadata": {},
   "outputs": [
    {
     "name": "stdout",
     "output_type": "stream",
     "text": [
      "The autoreload extension is already loaded. To reload it, use:\n",
      "  %reload_ext autoreload\n"
     ]
    }
   ],
   "source": [
    "#hide\n",
    "%load_ext autoreload\n",
    "%autoreload 2\n",
    "import numpy as np\n",
    "from nangs.bocos import *"
   ]
  },
  {
   "cell_type": "markdown",
   "metadata": {},
   "source": [
    "# PDE\n",
    "\n",
    "> This module contains the PDE class with the basic functionality to solve PDEs with NNs."
   ]
  },
  {
   "cell_type": "code",
   "execution_count": null,
   "metadata": {},
   "outputs": [],
   "source": [
    "#export\n",
    "\n",
    "from nangs.utils import *\n",
    "\n",
    "class PDE:\n",
    "    \"PDE class with basic functionality to solve PDEs with NNs\"\n",
    "    def __init__(self, inputs, outputs, params=None):\n",
    "        \n",
    "        self.input_keys = inputs\n",
    "        self.output_keys = outputs\n",
    "        self.param_keys = params\n",
    "        \n",
    "        # initialize values\n",
    "        self.train_inputs = initListOfStr(self.input_keys)\n",
    "        self.test_inputs = initListOfStr(self.input_keys)\n",
    "        self.outputs = initListOfStr(self.output_keys)\n",
    "        self.params = None\n",
    "        if self.param_keys:\n",
    "            self.params = initListOfStr(self.param_keys)\n",
    "            \n",
    "        # make sure there are not repeated keys\n",
    "        checkNoRepeated(self.input_keys, self.output_keys)\n",
    "        if self.params:\n",
    "            checkNoRepeated(self.input_keys, self.param_keys)\n",
    "            checkNoRepeated(self.param_keys, self.output_keys)\n",
    "        \n",
    "        self.bocos = []\n",
    "\n",
    "    def summary(self):\n",
    "        \"Print a summary of the PDE inputs, outputs, params and bocos.\"\n",
    "        print('inputs (train): ', {name: values for name, values in zip(self.input_keys, self.train_inputs)})\n",
    "        print('inputs (test): ', {name: values for name, values in zip(self.input_keys, self.test_inputs)})\n",
    "        print('outputs: ', {name: values for name, values in zip(self.output_keys, self.outputs)})\n",
    "        print('params: ', {name: values for name, values in zip(self.param_keys, self.params)})\n",
    "        print('bocos: ', [boco.type for boco in self.bocos])\n",
    "        print('')\n",
    "        \n",
    "    def setValues(self, values, train=True):\n",
    "        \"Set values for inputs and params\"\n",
    "        checkValidDict(values)\n",
    "        for key in values:\n",
    "            value = values[key]\n",
    "            if key in self.input_keys: \n",
    "                if train: \n",
    "                    setValue(self.input_keys, self.train_inputs, key, value)\n",
    "                else: \n",
    "                    setValue(self.input_keys, self.test_inputs, key, value)\n",
    "            elif key in self.param_keys: \n",
    "                if train: \n",
    "                    setValue(self.param_keys, self.params, key, value)    \n",
    "                else: \n",
    "                    raise Exception('You cannot set params in test data !')\n",
    "            elif key in self.output_keys:\n",
    "                raise Exception('You cannot set values to outputs !')\n",
    "            else:\n",
    "                raise Exception('Key '+ key +' not found !')\n",
    "                \n",
    "    def addBoco(self, boco):\n",
    "        \"Add a boco to the list of bocos\"\n",
    "        boco.addBoco(self.input_keys, self.output_keys)\n",
    "        self.bocos += [boco]\n",
    "        \n",
    "    def bocoSummary(self):\n",
    "        \"Print summary of each boco\"\n",
    "        for boco in self.bocos: \n",
    "            boco.summary(self.input_keys, self.output_keys, self.param_keys) \n"
   ]
  },
  {
   "cell_type": "markdown",
   "metadata": {},
   "source": [
    "## Instantiate a PDE"
   ]
  },
  {
   "cell_type": "code",
   "execution_count": null,
   "metadata": {},
   "outputs": [],
   "source": [
    "pde = PDE(inputs=['x', 't'], outputs=['p'], params=['u'])"
   ]
  },
  {
   "cell_type": "markdown",
   "metadata": {},
   "source": [
    "*inputs*, *outputs* and *params* (which are optionals) must be lists of strings with non-repeated elements or you will get an error."
   ]
  },
  {
   "cell_type": "code",
   "execution_count": null,
   "metadata": {},
   "outputs": [],
   "source": [
    "try:\n",
    "    pde = PDE(inputs=['x', 't'], outputs=['x'], params=['u'])\n",
    "except Exception as e:\n",
    "    assert str(e) == \"Repeated item x\", \"assertion failed\""
   ]
  },
  {
   "cell_type": "code",
   "execution_count": null,
   "metadata": {},
   "outputs": [],
   "source": [
    "#hide\n",
    "\n",
    "pde = PDE(['a'], ['b'])\n",
    "pde = PDE(inputs=['a'], outputs=['b'])\n",
    "pde = PDE(inputs=['a', 'b', 'c'], outputs=['d'])\n",
    "pde = PDE(inputs=['a'], outputs=['b', 'c', 'd'])\n",
    "pde = PDE(inputs=['a'], outputs=['b'], params=['c'])\n",
    "pde = PDE(inputs=['a', 'b'], outputs=['c'], params=['d', 'e', 'f'])\n",
    "\n",
    "try:\n",
    "    pde = PDE(inputs=['a'])\n",
    "except Exception as e:\n",
    "    assert str(e) == \"__init__() missing 1 required positional argument: 'outputs'\", \"assertion failed\"\n",
    "    \n",
    "try:\n",
    "    pde = PDE(outputs=['a'])\n",
    "except Exception as e:\n",
    "    assert str(e) == \"__init__() missing 1 required positional argument: 'inputs'\", \"assertion failed\"\n",
    "    \n",
    "try:\n",
    "    pde = PDE(inputs=['a'], outputs=42)\n",
    "except Exception as e:\n",
    "    assert str(e) == \"42 must be a list of strings\", \"assertion failed\"\n",
    "    \n",
    "try:\n",
    "    pde = PDE(inputs=None, outputs=42)\n",
    "except Exception as e:\n",
    "    assert str(e) == \"None must be a list of strings\", \"assertion failed\"\n",
    "    \n",
    "try:\n",
    "    pde = PDE(inputs=['a', 42], outputs=['b'])\n",
    "except Exception as e:\n",
    "    assert str(e) == \"42 must be a string\", \"assertion failed\"\n",
    "    \n",
    "try:\n",
    "    pde = PDE(inputs=['a', 'b'], outputs=['b'])\n",
    "except Exception as e:\n",
    "    assert str(e) == \"Repeated item b\", \"assertion failed\"\n",
    "    \n",
    "try:\n",
    "    pde = PDE(inputs=['a', 'b'], outputs=['c'], params=['a'])\n",
    "except Exception as e:\n",
    "    assert str(e) == \"Repeated item a\", \"assertion failed\""
   ]
  },
  {
   "cell_type": "markdown",
   "metadata": {},
   "source": [
    "## Summary"
   ]
  },
  {
   "cell_type": "markdown",
   "metadata": {},
   "source": [
    "Get a summary of the PDE inputs, outputs, params and bocos."
   ]
  },
  {
   "cell_type": "code",
   "execution_count": null,
   "metadata": {},
   "outputs": [
    {
     "name": "stdout",
     "output_type": "stream",
     "text": [
      "inputs (train):  {'a': [], 'b': []}\n",
      "inputs (test):  {'a': [], 'b': []}\n",
      "outputs:  {'c': []}\n",
      "params:  {'d': [], 'e': [], 'f': []}\n",
      "bocos:  []\n",
      "\n"
     ]
    }
   ],
   "source": [
    "pde.summary()"
   ]
  },
  {
   "cell_type": "markdown",
   "metadata": {},
   "source": [
    "## Setting values"
   ]
  },
  {
   "cell_type": "markdown",
   "metadata": {},
   "source": [
    "To solve a PDE you must set some input values, and optionally free-parameters. You cannot set output values (this will be given by the neural network)."
   ]
  },
  {
   "cell_type": "code",
   "execution_count": null,
   "metadata": {},
   "outputs": [],
   "source": [
    "pde = PDE(inputs=['a', 'b'], outputs=['c'], params=['d'])\n",
    "\n",
    "a = np.array([0, 0.5, 1])\n",
    "b = np.array([0, 0.5, 1])\n",
    "d = np.array([1.0])\n",
    "pde.setValues({'a': a, 'b': b, 'd': d})\n",
    "\n",
    "try:\n",
    "    pde.setValues({'a': a, 'b': b, 'c': d})\n",
    "except Exception as e:\n",
    "    assert str(e) == \"You cannot set values to outputs !\", \"assertion failed\"\n",
    "    \n",
    "try:\n",
    "    pde.setValues({'a': a, 'b': b, 'e': d})\n",
    "except Exception as e:\n",
    "    assert str(e) == \"Key e not found !\", \"assertion failed\""
   ]
  },
  {
   "cell_type": "markdown",
   "metadata": {},
   "source": [
    "By default, values are set for training but you can specify values for testing (in this case only for inputs)."
   ]
  },
  {
   "cell_type": "code",
   "execution_count": null,
   "metadata": {},
   "outputs": [],
   "source": [
    "pde = PDE(inputs=['a', 'b'], outputs=['c'], params=['d'])\n",
    "\n",
    "a = np.array([0, 0.5, 1])\n",
    "b = np.array([0, 0.5, 1])\n",
    "pde.setValues({'a': a, 'b': b}, train=False)\n",
    "\n",
    "try:\n",
    "    pde.setValues({'a': a, 'b': b, 'd': d}, train=False)\n",
    "except Exception as e:\n",
    "    assert str(e) == \"You cannot set params in test data !\", \"assertion failed\""
   ]
  },
  {
   "cell_type": "code",
   "execution_count": null,
   "metadata": {},
   "outputs": [],
   "source": [
    "#hide\n",
    "\n",
    "pde = PDE(inputs=['a', 'b'], outputs=['c'], params=['d'])\n",
    "\n",
    "a = np.array([0, 0.5, 1])\n",
    "b = np.array([0, 0.5, 1])\n",
    "d = np.array([1.0])\n",
    "\n",
    "pde.setValues({'a': a})\n",
    "pde.setValues({'a': a, 'b': b, 'd': d})\n",
    "\n",
    "\n",
    "try:\n",
    "    pde.setValues({'a': a, 'b': b, 'c': d})\n",
    "except Exception as e:\n",
    "    assert str(e) == \"You cannot set values to outputs !\", \"assertion failed\"\n",
    "    \n",
    "try:\n",
    "    pde.setValues({'a': a, 'b': b, 'e': d})\n",
    "except Exception as e:\n",
    "    assert str(e) == \"Key e not found !\", \"assertion failed\"\n",
    "    \n",
    "pde.setValues({'a': a, 'b': b}, train=False)\n",
    "\n",
    "try:\n",
    "    pde.setValues({'a': a, 'b': b, 'd': d}, train=False)\n",
    "except Exception as e:\n",
    "    assert str(e) == \"You cannot set params in test data !\", \"assertion failed\"\n",
    "    \n",
    "try:\n",
    "    pde.setValues({'a': a, 'b': b, 'c': d}, train=False)\n",
    "except Exception as e:\n",
    "    assert str(e) == \"You cannot set values to outputs !\", \"assertion failed\"\n",
    "    \n",
    "try:\n",
    "    pde.setValues({'a': a, 'b': b, 'e': d}, train=False)\n",
    "except Exception as e:\n",
    "    assert str(e) == \"Key e not found !\", \"assertion failed\""
   ]
  },
  {
   "cell_type": "markdown",
   "metadata": {},
   "source": [
    "## Adding Boundary Conditions"
   ]
  },
  {
   "cell_type": "markdown",
   "metadata": {},
   "source": [
    "To add a boundary condition to the system, first define one and then add it with the *addBoco* method."
   ]
  },
  {
   "cell_type": "code",
   "execution_count": null,
   "metadata": {},
   "outputs": [
    {
     "name": "stdout",
     "output_type": "stream",
     "text": [
      "Periodic Boco Summary:\n",
      "Input 1:  {'a': array([0]), 'b': array([1, 2, 3])}\n",
      "Input 2:  {'a': array([1]), 'b': array([1, 2, 3])}\n",
      "\n"
     ]
    }
   ],
   "source": [
    "pde = PDE(inputs=['a', 'b'], outputs=['c'])\n",
    "\n",
    "a1, a2 = np.array([0]), np.array([1])\n",
    "b = np.array([1, 2, 3])\n",
    "\n",
    "boco = PeriodicBoco({'a': a1, 'b': b}, {'a': a2, 'b': b})\n",
    "pde.addBoco(boco)\n",
    "\n",
    "pde.bocoSummary()"
   ]
  },
  {
   "cell_type": "code",
   "execution_count": null,
   "metadata": {},
   "outputs": [],
   "source": []
  }
 ],
 "metadata": {
  "kernelspec": {
   "display_name": "Python 3",
   "language": "python",
   "name": "python3"
  }
 },
 "nbformat": 4,
 "nbformat_minor": 2
}
