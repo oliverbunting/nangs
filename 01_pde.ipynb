{
 "cells": [
  {
   "cell_type": "code",
   "execution_count": null,
   "metadata": {},
   "outputs": [],
   "source": [
    "# default_exp pde"
   ]
  },
  {
   "cell_type": "markdown",
   "metadata": {},
   "source": [
    "# PDE\n",
    "\n",
    "> This module contains the PDE class with the basic functionality to solve PDEs with NNs."
   ]
  },
  {
   "cell_type": "code",
   "execution_count": null,
   "metadata": {},
   "outputs": [],
   "source": [
    "#export\n",
    "\n",
    "class PDE:\n",
    "    \"PDE class with basic functionality to solve PDEs with NNs\"\n",
    "    def __init__(self, inputs=None, outputs=None, params=[]):\n",
    "        \n",
    "        self.inputs = inputs\n",
    "        self.outputs = outputs\n",
    "        self.params = params\n",
    "        \n",
    "        # initialize values\n",
    "        self.inputTrainValues = initStringList(self.inputs)\n",
    "        self.inputValValues = initStringList(self.inputs)\n",
    "        self.inputTestValues = initStringList(self.inputs)\n",
    "        self.outputValues = initStringList(self.outputs)\n",
    "        self.paramValues = initStringList(self.params)\n",
    "        \n",
    "        self.bocos = []\n",
    "\n",
    "        \n",
    "    def summary(self):\n",
    "        \"Print a summary of the PDE inputs, outputs, params and bocos.\"\n",
    "        print('inputs (train): ', {name: values for name, values in zip(self.inputs, self.inputTrainValues)})\n",
    "        print('inputs (val): ', {name: values for name, values in zip(self.inputs, self.inputValValues)})\n",
    "        print('outputs: ', {name: values for name, values in zip(self.outputs, self.outputValues)})\n",
    "        print('params: ', {name: values for name, values in zip(self.params, self.paramValues)})\n",
    "        print('bocos: ', [boco.type for boco in self.bocos])\n",
    "        print('')"
   ]
  },
  {
   "cell_type": "code",
   "execution_count": null,
   "metadata": {},
   "outputs": [
    {
     "data": {
      "text/markdown": [
       "<h4 id=\"PDE.__init__\" class=\"doc_header\"><code>PDE.__init__</code><a href=\"__main__.py#L5\" class=\"source_link\" style=\"float:right\">[source]</a></h4>\n",
       "\n",
       "> <code>PDE.__init__</code>(**`inputs`**=*`None`*, **`outputs`**=*`None`*, **`params`**=*`[]`*)\n",
       "\n",
       "Initialize self.  See help(type(self)) for accurate signature."
      ],
      "text/plain": [
       "<IPython.core.display.Markdown object>"
      ]
     },
     "metadata": {},
     "output_type": "display_data"
    },
    {
     "data": {
      "text/markdown": [
       "<h4 id=\"PDE.summary\" class=\"doc_header\"><code>PDE.summary</code><a href=\"__main__.py#L21\" class=\"source_link\" style=\"float:right\">[source]</a></h4>\n",
       "\n",
       "> <code>PDE.summary</code>()\n",
       "\n",
       "Print a summary of the PDE inputs, outputs, params and bocos."
      ],
      "text/plain": [
       "<IPython.core.display.Markdown object>"
      ]
     },
     "metadata": {},
     "output_type": "display_data"
    }
   ],
   "source": [
    "#hide\n",
    "from nbdev.showdoc import *\n",
    "show_doc(PDE.__init__)\n",
    "show_doc(PDE.summary)"
   ]
  },
  {
   "cell_type": "code",
   "execution_count": null,
   "metadata": {},
   "outputs": [],
   "source": [
    "#hide\n",
    "from nangs.utils import *"
   ]
  },
  {
   "cell_type": "markdown",
   "metadata": {},
   "source": [
    "You can instantiate a PDE as follows:"
   ]
  },
  {
   "cell_type": "code",
   "execution_count": null,
   "metadata": {},
   "outputs": [],
   "source": [
    "pde = PDE(inputs=['x', 't'], outputs=['p'], params=['u'])"
   ]
  },
  {
   "cell_type": "markdown",
   "metadata": {},
   "source": [
    "You can get a summary of the inputs, outputs, parameters and boundary conditions with the *summary* method."
   ]
  },
  {
   "cell_type": "code",
   "execution_count": null,
   "metadata": {},
   "outputs": [
    {
     "name": "stdout",
     "output_type": "stream",
     "text": [
      "inputs (train):  {'x': [], 't': []}\n",
      "inputs (val):  {'x': [], 't': []}\n",
      "outputs:  {'p': []}\n",
      "params:  {'u': []}\n",
      "bocos:  []\n",
      "\n"
     ]
    }
   ],
   "source": [
    "pde.summary()"
   ]
  },
  {
   "cell_type": "code",
   "execution_count": null,
   "metadata": {},
   "outputs": [],
   "source": []
  }
 ],
 "metadata": {
  "kernelspec": {
   "display_name": "Python 3",
   "language": "python",
   "name": "python3"
  }
 },
 "nbformat": 4,
 "nbformat_minor": 2
}
